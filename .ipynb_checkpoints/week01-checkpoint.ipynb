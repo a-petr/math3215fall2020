{
 "cells": [
  {
   "cell_type": "markdown",
   "metadata": {
    "slideshow": {
     "slide_type": "slide"
    }
   },
   "source": [
    "# Week 1: Introduction, probability, combinatorics\n",
    "\n",
    " [Back to main page](https://petrosyan.page/fall2020math3215)\n"
   ]
  },
  {
   "cell_type": "markdown",
   "metadata": {
    "slideshow": {
     "slide_type": "slide"
    }
   },
   "source": [
    "## Probability Theory and Statistics: the big picture\n",
    "\n",
    "\n",
    "\n"
   ]
  },
  {
   "cell_type": "markdown",
   "metadata": {},
   "source": [
    "The subject of **Probability Theory** is to model  randomness and study resulting mathematical structures. Like everything else in Mathematics, it is done via sets and functions. Random events will be represented as sets and random outcomes as functions. Before we introduce this terminology further, we will understand what we mean by randomness and develop our intuition with basic examples. \n",
    "\n",
    "<!-- Every mathematical model comes with associated measurable observations (what and how we can measure). This will lead us to measurable events and measurable functions (otherwise called random variables). This is simlar to how the only thing we can measure from the far away stars is only certain electromagnetic waves they are sending our way yet we try and make conclusions about them.  -->\n",
    "\n"
   ]
  },
  {
   "cell_type": "markdown",
   "metadata": {},
   "source": [
    "In **Statistics**, we want to find a good model for a given target random phenomenon and estimate associated model parameters using acquired random data (a.k.a. samples or measurements) for the purposes of prediction (what is the new data going to be), drawing conclusion (does a drug cure an illness or not). This typically envloves the following:\n",
    "\n",
    "1. Collect data in a representable manner,\n",
    "2. Organize and summarize data: understand what the main charactersitics of the data are (e.g.  data is mostly concentrated around some value, how much they deviate from the value), \n",
    "3. Quantify this characteristics (mean, standard deviation),\n",
    "4. Find a quantified statistical model (e.g. Gaussian, Poisson distributions, linear model etc) to describe data generation,\n",
    "5. Assess the quality of resulting model (e.g. confidence intervals),\n",
    "6. Draw conclusion or make prediction. "
   ]
  },
  {
   "cell_type": "markdown",
   "metadata": {
    "slideshow": {
     "slide_type": "skip"
    }
   },
   "source": [
    "## Outcomes and events"
   ]
  },
  {
   "cell_type": "markdown",
   "metadata": {},
   "source": [
    "Suppose we are ovserving a phenomenon with a certain outcome (an experiment, the flunctuations of the stock market etc). Let $S$ denote the space of all possible outcomes of this phenomenon. One such example is the toss of a coin. Each toss results in an outcome of either H (head) or T (tail) so in this case the outcome space will be $S=\\{H, T\\}$. Or if we are pulling a card from a deck then the space of all outcomes is the set of all individual cards. \n",
    "\n",
    "Often times, we are not interested in a specific outcome but rather if the outcome has certain qualities. In the case of the pulled card we may be intersted if it is spades rather than being a specific card from spades. In other words, we are often intersted in sets (collections) of outcomes. Such sets we conventionally call events in probability theory. \n",
    "\n",
    "* If we want the outcome to have the quality $A$ and quality $B$ simultaneousely, that will correspond to the event $A\\cap B$.\n",
    "* If we want the outcome to have the quality $A$ and not have the quality $B$, the it corresponds to the event $A\\setminus B$.\n",
    "* If we want the outcome to either have the quality $A$ or $B$ then it corresponds to the event $A\\cup B$.\n",
    "* If we want the outcume to not have the quality $A$ then it corresponds to the event $A^\\prime = S\\setminus A$.\n",
    "---\n",
    "**Definition:** \n",
    "1. A set of events $A_1,\\dots, A_n$ are called mitually exclusive if $A_i\\cap A_j=\\emptyset$ for every $i\\neq j$.\n",
    "2. A set of events  $A_1,\\dots, A_n$ are called exhaustive if $\\bigcup_{i=1}^nA_i=S$.\n",
    "---\n",
    "\n"
   ]
  },
  {
   "cell_type": "markdown",
   "metadata": {},
   "source": [
    "## Probability"
   ]
  },
  {
   "cell_type": "markdown",
   "metadata": {},
   "source": [
    "There are many situations where a repeatative phenomenon takes place each time with a different outcome. In this case we say that the outcome is random. Probability of an outcome is a number between 0 and 1 that shows the relative frequency at which the random phenonmenon results in that outcome. \n",
    "\n",
    "Similarly, the probability of an event $A$ will represent the proportion of outcomes that terminated in $A$.\n",
    "\n",
    "For example, consider the coin toss experiment. If we were to repreat the toss many times there is no inherit reason to expect that the number of say heads should be dominating over the number of tails or vise versa. I have experimented  and recorded the outcome of hundred such experiments shown below (used a quarter).\n",
    "\n",
    "By relative frequency of heads after $i$ tosses we understand the number \n",
    "$$f(H) = \\frac{\\text{# of heads after i tosses}}{i}.$$\n",
    "\n",
    "The outcome was  \n",
    "\n",
    "                     [T,T,T,H,H,H,H,T,T,T,H,T,T,T,T,T,H,H,H,T,T,H,H,T,H,\n",
    "                      H,T,H,T,H,H,T,T,H,T,T,T,H,H,H,H,T,T,H,T,T,T,T,T,T,\n",
    "                      H,T,T,H,H,H,T,T,T,H,T,H,T,H,H,H,T,T,H,H,H,H,T,H,H,\n",
    "                      T,T,T,T,T,H,T,H,H,T,T,H,H,H,T,H,T,H,H,H,T,T,T,T,T]\n",
    "                      \n",
    "The graph below shows the frequency as I increase the number of samples. If I repeated this experiment for long enough the graph would eventually stabilize and become close to $1/2$."
   ]
  },
  {
   "cell_type": "code",
   "execution_count": 13,
   "metadata": {},
   "outputs": [
    {
     "data": {
      "image/png": "[encoded data removed]",
      "text/plain": [
       "<Figure size 720x288 with 1 Axes>"
      ]
     },
     "metadata": {
      "needs_background": "light"
     },
     "output_type": "display_data"
    }
   ],
   "source": [
    "# nbi:hide_in\n",
    "%matplotlib inline\n",
    "import matplotlib.pyplot as plt\n",
    "plt.rcParams[\"figure.figsize\"] = (10, 4)\n",
    "\n",
    "import numpy as np\n",
    "\n",
    "T = 0\n",
    "H = 1\n",
    "outcomes =  np.array([T,T,T,H,H,H,H,T,T,T,H,T,T,T,T,T,H,H,H,T,T,H,H,T,H,\n",
    "                      H,T,H,T,H,H,T,T,H,T,T,T,H,H,H,H,T,T,H,T,T,T,T,T,T,\n",
    "                      H,T,T,H,H,H,T,T,T,H,T,H,T,H,H,H,T,T,H,H,H,H,T,H,H,\n",
    "                      T,T,T,T,T,H,T,H,H,T,T,H,H,H,T,H,T,H,H,H,T,T,T,T,T])\n",
    "\n",
    "frequencies = np.array([ outcomes[:i].sum()/(i+1) for i in range(100) ])\n",
    "tosses = np.arange(100)\n",
    "plt.scatter(tosses, frequencies)\n",
    "plt.plot([0,100], [0.5,0.5], 'r')\n",
    "plt.xlabel('tosses')\n",
    "plt.ylabel('relative frequency of heads')\n",
    "plt.show();"
   ]
  },
  {
   "cell_type": "markdown",
   "metadata": {},
   "source": [
    "In the next example I ran the experiment of aimlessly throwing a dart at a square board and computed the frequency at which it lands in the target circle. This time, instead of empirically, I did it numerically. In here the square is taken to be $[-2,2]^2$ and the circle to be the one with the center at $0$ and of radius $1/2$. As could have been expected, the frequency of landing into the target circle is equal to the proportion of its area and that proprtion is equal to $\\pi/16$. And as we increase the number of samples below, it can be seen that the \n",
    "relative frequency converges to the value that we expect to have. "
   ]
  },
  {
   "cell_type": "code",
   "execution_count": 14,
   "metadata": {},
   "outputs": [
    {
     "data": {
      "application/vnd.jupyter.widget-view+json": {
       "model_id": "404d2f6303aa47b7993a0e1ee00dd795",
       "version_major": 2,
       "version_minor": 0
      },
      "text/plain": [
       "interactive(children=(IntSlider(value=10, description='i', max=1000), Output()), _dom_classes=('widget-interac…"
      ]
     },
     "metadata": {},
     "output_type": "display_data"
    }
   ],
   "source": [
    "# nbi:hide_in\n",
    "import matplotlib.pyplot as plt\n",
    "import numpy as np\n",
    "from ipywidgets import interact\n",
    "\n",
    "\n",
    "%matplotlib inline\n",
    "plt.rcParams[\"figure.figsize\"] = (8, 4)\n",
    "\n",
    "# generate data\n",
    "N_samples = 1000\n",
    "x = np.random.uniform(-1, 1, N_samples)\n",
    "y = np.random.uniform(-1, 1, N_samples)\n",
    "\n",
    "# check if in circle\n",
    "check = (x**2+y**2 <=1/4).astype(int)\n",
    "frequencies = np.array([ check[:i].sum()/(i+1) for i in range(N_samples) ])\n",
    "\n",
    "# ploting results\n",
    "def draw(i=10):\n",
    "    fig, [ax1, ax2] = plt.subplots(1,2, num=1, clear=True)\n",
    "    draw_circle = plt.Circle((0, 0), 0.5, facecolor='red')\n",
    "    draw_square = plt.Rectangle((-1, -1), width=2, height=2, fill=False, zorder=1)\n",
    "    ax1.add_artist(draw_circle)\n",
    "    ax1.add_artist(draw_square)\n",
    "    ax1.set_xlim(-1.1, 1.1)\n",
    "    ax1.set_ylim(-1.1, 1.1)\n",
    "    ax1.set_axis_off()\n",
    "    ax1.title.set_text('dart')\n",
    "    ax1.scatter(x[:i], y[:i], marker=\"x\", zorder=2)\n",
    "    \n",
    "    prob = np.pi/(4*4)\n",
    "    tosses = np.arange(i)\n",
    "    ax2.scatter(tosses, frequencies[:i])\n",
    "    ax2.set_xlabel('throws')\n",
    "    ax2.set_ylabel('relative frequency')\n",
    "    ax2.plot([0,N_samples], [prob,prob], 'r')\n",
    "    plt.tight_layout()\n",
    "    plt.show()\n",
    "\n",
    "interact(draw, i=(0,N_samples, 1));"
   ]
  },
  {
   "cell_type": "markdown",
   "metadata": {},
   "source": [
    "___\n",
    "**A (determenistic) way to think of randomness and probability:**\n",
    "    \n",
    "Imagine the outcome of the experiment depends on the \"state\" of the factors that determine the outcome (\"state of the universe\"). At different states the outcome will be different. Probability of an outcome is the proportion of those states that produce that outcome.\n",
    "___"
   ]
  },
  {
   "cell_type": "markdown",
   "metadata": {},
   "source": [
    "The set of events with the associated probabilities is called a **probability space**. As a proportion, the probability of an event is always a number between 0 and 1. However, there are several additional conditions called axioms of probability (introduced by the famous mathematician Vladimir Kolmogorov) that we additionally impose on probability spaces. \n",
    "\n",
    "___\n",
    "**Definition:** \n",
    "\n",
    "A probability is a function which corresponds to each event $A$  a number $P(A)$ satisfying the following conditions:\n",
    "\n",
    "1. for every event $A$, $P(A)\\geq 0$,\n",
    "2. P(S)=1,\n",
    "3. for any  (finite or infinite) collection of mutually exclusive events $\\{A_1,A_2,\\dots\\}$,\n",
    "\n",
    "$$P(A_1\\cup A_2\\cup\\cdots )=P(A_1)+P(A_2)+\\cdots.$$\n",
    "\n",
    "___\n",
    "\n",
    "\n",
    "Note that, the same set of outcomes can have different associated probabilities and thus the resulting probability spaces will be different. For example, if the coin is not fair (because its weight is not evenly distributed or some other reason), then that can affect the probabilities of heads and tails in the coin toss experiment. \n",
    "\n",
    "\n",
    "\n"
   ]
  },
  {
   "cell_type": "markdown",
   "metadata": {},
   "source": [
    "___\n",
    "**Statistician:** \n",
    "\n",
    "Give me data and I will find the probabilities  (e.g. how we did above). The heuristic methods (approach to problem solving that employs a practical method)  I use are consistent with theory but I also rely on empirical evidence (verifiable by observation or experience rather than theory).\n",
    "\n",
    "**Probability theorist:**\n",
    "\n",
    "Give me probabilities, doesn't matter how you found them, and I will prove mathematical theorems about them. Sometimes I will also prove theorems justifying the heuristic methods employed by statisticians. \n",
    "___"
   ]
  },
  {
   "cell_type": "markdown",
   "metadata": {},
   "source": [
    "## Basic properties of probability functions"
   ]
  },
  {
   "cell_type": "markdown",
   "metadata": {},
   "source": [
    "___\n",
    "**Theorem:**\n",
    "\n",
    "1. $P(A^\\prime)=1-P(A)$.\n",
    "2. $P(\\emptyset)=0$.\n",
    "3. $0\\leq P(A)\\leq 1$.\n",
    "\n",
    "**Proof:**\n",
    "\n",
    "\n",
    "___\n",
    "\n"
   ]
  },
  {
   "cell_type": "markdown",
   "metadata": {},
   "source": [
    "___\n",
    "**Theorem:**\n",
    "\n",
    "1. If $A\\subseteq B$ then $P(A)\\leq P(B)$.\n",
    "2. For any $A,B$, $$P(A\\cup B)= P(A)+P(B)-P(A\\cap B).$$\n",
    "___\n",
    "\n",
    "**Proof:**\n",
    "\n",
    "\n"
   ]
  },
  {
   "cell_type": "markdown",
   "metadata": {},
   "source": [
    "## Equiprobability spaces"
   ]
  },
  {
   "cell_type": "markdown",
   "metadata": {},
   "source": [
    "Let the space of all outcomes $S$ be a finite set: $S=\\{s_1,\\dots, s_n\\}$. Notice that the probability space in this case is uniquely defined by the individual probabilities $p_i=P(s_i)$. \n",
    "\n",
    "Indeed, in this case, the probability of an event $A=\\{s_{i_1},\\dots, s_{i_k}\\}$ will be expressed as \n",
    "\n",
    "$$P(A) = p_{i_1}+\\cdots + p_{i_k}.$$\n",
    "\n",
    "The simplest probability space on $n$ elements is the one where all $p_i$ are equal, and since $p_1+\\cdots +p_n=P(S)=1$ then $p_i=1/n$ for all $i=1,\\dots,n$. \n",
    "\n",
    "In an equiprobability space, the probability of an event $E$ of size $m$ is equal to $m/n$.\n",
    "\n",
    "The coin toss experiment with a fair coin is one example of such probability space where $p_1=p_2=1/2.$\n",
    "\n",
    "Similarly we can consider equiprobability space on the set of outcomes for two times coin toss experiment. In this case \n",
    "$$S=\\{HH, HT, TH, TT\\}.$$\n",
    "And thus the probability of each outcome is $1/4$.\n",
    "\n",
    "More generally we cam consider the problem of $m$ coins tosses with a fair coin. Since it is a fair coin we expect that each combination is equally likely to apear and so we have an equiprobability space on the set of all sequences of length $m$ with each entry being either $T$ or $H$. We will see that in this case each outcome has $1/2^m$ probability. And we can also pose questions like \"what is the probability of the event that the number of heads in $m$ consequtive tosses is $k$ for some given $k$?\". To be able to address problems like we these we need to use tools from Combinatorics which is a branch of mathematics primarily concerned with counting and arranging."
   ]
  },
  {
   "cell_type": "markdown",
   "metadata": {},
   "source": [
    "## Basic combinatorics"
   ]
  },
  {
   "cell_type": "markdown",
   "metadata": {},
   "source": [
    "Combinatorial techniques employ elementary observations to make complicated computations for various arrangement problems. The most basic observation is the principle of multiplication."
   ]
  },
  {
   "cell_type": "markdown",
   "metadata": {},
   "source": [
    "___\n",
    "**Multiplication principle:**\n",
    "\n",
    "If an experiment $E_1$ has $n_1$ outcomes and the experiment $E_2$ has $n_2$ outcomes, then the number of combined outcomes with be $n_1n_2$.\n",
    "\n",
    "___"
   ]
  },
  {
   "cell_type": "markdown",
   "metadata": {},
   "source": [
    "The principle can be (inductively) extended to the case of $m$ experiments with corresponding $n_i$ outcomes. Then the combined experiment will have $n_1\\dots n_m$ outcomes. "
   ]
  },
  {
   "cell_type": "markdown",
   "metadata": {},
   "source": [
    "Let us use this principle to compute the number of outcomes of $m$ tosses of a coin. Since each toss has 2 outcomes, then the number of outcomes with $m$ tosses will be $2^m$."
   ]
  },
  {
   "cell_type": "markdown",
   "metadata": {},
   "source": [
    "___\n",
    "**Definition:**\n",
    "\n",
    "A **permutation** of a set is any ordered arrangement of its members.\n",
    "___\n",
    "\n",
    "For example, the sequences $(1,2,3)$ and $(2,1,3)$ each are permutations of the set $\\{1,2,3\\}$."
   ]
  },
  {
   "cell_type": "markdown",
   "metadata": {},
   "source": [
    "___\n",
    "**Theorem:**\n",
    "\n",
    "The number of permutations of a set with $n$ elements is equal to $n!$ where $n!$ (\"n factorial\") denotes the product $n(n-1)\\cdots 1.$\n",
    "\n",
    "**Proof:**\n",
    "\n",
    "We will use an observation similar to the principle of multiplication. The first element of the permutation can be selected in $n$ different ways. After the first element is fized, the second element can be chosen in $n-1$ ways (since we have to exclude the first element) so the first two can be selected in $n(n-1)$ ways. After the first two are fixed, the thrid one can be selected in $n-2$ ways and so on.\n",
    "___\n",
    "\n",
    "Let $P(n,r)$  be the number of permutations of $n$ objects taken $r$ at a time. In other words, we take all possible r different element combinations from a set of size n and look at their permutations. By a smilar argument as above, we can show that \n",
    "$$P(n,r)=n(n-1)\\cdots (n-r+1)=\\frac{n!}{(n-r)!}.$$"
   ]
  },
  {
   "cell_type": "markdown",
   "metadata": {},
   "source": [
    "___\n",
    "**Definition:**\n",
    "\n",
    "A **sample of size $r$** from a given set $S$ is any selection of elements from the set. A sample can be uniqe or with repetitions (the same element is present more than once), it can also be ordered or without order. \n",
    "___"
   ]
  },
  {
   "cell_type": "markdown",
   "metadata": {},
   "source": [
    "A sample with unique elements is also called sample without replacement whereass a sample with repeptitions is called sample with replacement. \n",
    "\n",
    "We typically use brackets to denote ordered samples and curly brackets to denote samples without order. In that regard $(1,2,3)$ and $(1,3,2)$ are diffferent ordered samples while $\\{1,2,3\\}$ and $\\{1,3,2\\}$ are the same as samples without order. \n",
    "\n",
    "From the discussion above, the number of all ordered samples of size r sampled without replacement is equal to $P(n,r)$."
   ]
  },
  {
   "cell_type": "markdown",
   "metadata": {},
   "source": [
    "___\n",
    "**Theorem:**\n",
    "\n",
    "The number of all  samples without order of size r sampled without replacement is denoted by $C(n,r)$ or ${n \\choose r}$ and is equal to the following number\n",
    "\n",
    "$$C(n,r)=\\frac{n!}{r!(n-r)!}.$$\n",
    "\n",
    "**Proof:**\n",
    "\n",
    "Notice that each sample without order can be ordered in $r!$ ways aaccording to the Theorem about permutations. Hence, using the multiplication principle, $P(n,r)= C(n,r)r!$ from where we conclude that $C(n,r)=\\frac{P(n,r)}{r!}=\\frac{n!}{r!(n-r)!}.$\n",
    "___\n"
   ]
  },
  {
   "cell_type": "markdown",
   "metadata": {},
   "source": [
    "The number ${n \\choose r}$ shows up in many places. Two such examples will be discussed below."
   ]
  },
  {
   "cell_type": "markdown",
   "metadata": {},
   "source": [
    "___\n",
    "**Example 1**\n",
    "\n",
    "Suppose we have $r$ red balls and $n-r$ blue balls. In how many different ways can be arrange the two sets of calls? Below you can see the set of such arrangements for specific values of $n$ and $r$. Each row corresponds to one arrangement."
   ]
  },
  {
   "cell_type": "code",
   "execution_count": 55,
   "metadata": {},
   "outputs": [
    {
     "data": {
      "application/vnd.jupyter.widget-view+json": {
       "model_id": "b2d9bf9aa6944396a2f16ea866e9e13c",
       "version_major": 2,
       "version_minor": 0
      },
      "text/plain": [
       "interactive(children=(IntSlider(value=2, description='r', max=6), Output()), _dom_classes=('widget-interact',)…"
      ]
     },
     "metadata": {},
     "output_type": "display_data"
    }
   ],
   "source": [
    "# nbi:hide_in\n",
    "\n",
    "import matplotlib.pyplot as plt\n",
    "import numpy as np\n",
    "from itertools import combinations\n",
    "\n",
    "%matplotlib inline\n",
    "plt.rcParams[\"figure.figsize\"] = (8, 4)\n",
    "\n",
    "n=6\n",
    "\n",
    "def redblue(r=2):\n",
    "    red_list = list(combinations(range(n), r)) \n",
    "    N = len(red_list)\n",
    "    \n",
    "    fig, ax = plt.subplots()\n",
    "    for i in range(N):\n",
    "        y_red = np.ones(r) * i/N\n",
    "        x_red = np.array(red_list[i])\n",
    "\n",
    "        y_blue = np.ones(n-r) * i/N\n",
    "        x_blue = np.array([j for j in range(n) if j not in red_list[i]])\n",
    "\n",
    "        ax.set_axis_off()\n",
    "        ax.scatter(x_red, y_red, color='red')\n",
    "        ax.scatter(x_blue, y_blue, color='blue')\n",
    "        ax.set_title(\"All arrangements of {} red and {} blue balls\".format(r, n-r))\n",
    "\n",
    "    plt.show()\n",
    "    \n",
    "interact(redblue, r=(0, n, 1));"
   ]
  },
  {
   "cell_type": "markdown",
   "metadata": {},
   "source": [
    "Let us notice that there is a one-to-one correspodence between an arrangement of red and blue balls, and the set of samples of size $r$ (without order) from the set $\\{1,\\dots, n$. Indeed, to each arrangement put into correspondence the indexes where a red ball is placed. So the arrangement $(R, B, R)$ will correspond to $\\{1,3\\}$. Since we know that the number of all such samples is $C(n,r)$ we find the number of all red and blue call arangements to be the same. \n",
    "\n",
    "___"
   ]
  },
  {
   "cell_type": "markdown",
   "metadata": {},
   "source": [
    "___\n",
    "**Example 2**\n",
    "\n",
    "Another place where the number ${n \\choose r}$ shows up is the Newton's binome which states that \n",
    "\n",
    "$$(a+b)^n=\\sum_{r=1}^n {n \\choose r}a^rb^{n-r}.$$\n",
    "\n",
    "(Try proving this using combinatorail arguments with arrangements.) For this reason ${n \\choose r}$ are also called **binomial coefficients**. \n",
    "\n",
    "\n",
    "___\n",
    "\n"
   ]
  },
  {
   "cell_type": "markdown",
   "metadata": {},
   "source": [
    "Similarly, we could consider the problem of arranging $k$ different colored balls. Let $r_1,r_2,\\dots, r_k$ be the number of balls of corresponding color and $n=r_1+\\cdots+r_k.$. Denote the number of such arrangements by  ${n\\choose r_1,\\dots,r_k}$. It can be checked that \n",
    "the following hold.\n",
    "1. ${n\\choose r_1,\\dots,r_k}=\\frac{n!}{n_1!\\cdots n_k!}.$\n",
    "2. Just like in the two color case, \n",
    "$$(a_1+\\cdots + a_k)^n=\\sum_{r_1+\\cdots+r_k} {n\\choose r_1,\\dots,r_k}a^rb^{n-r}a_1^{r_1}\\cdots a_k^{r_k}$$\n",
    "because of which the ${n\\choose r_1,\\dots,r_k}$ are also called miltinomial coefficients. "
   ]
  },
  {
   "cell_type": "markdown",
   "metadata": {},
   "source": []
  }
 ],
 "metadata": {
  "kernelspec": {
   "display_name": "Python 3",
   "language": "python",
   "name": "python3"
  },
  "language_info": {
   "codemirror_mode": {
    "name": "ipython",
    "version": 3
   },
   "file_extension": ".py",
   "mimetype": "text/x-python",
   "name": "python",
   "nbconvert_exporter": "python",
   "pygments_lexer": "ipython3",
   "version": "3.7.7"
  }
 },
 "nbformat": 4,
 "nbformat_minor": 4
}

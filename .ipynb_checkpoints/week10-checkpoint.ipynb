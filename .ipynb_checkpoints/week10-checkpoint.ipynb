{
 "cells": [
  {
   "cell_type": "markdown",
   "metadata": {
    "slideshow": {
     "slide_type": "slide"
    }
   },
   "source": [
    "# Week 12: Estimation\n",
    "\n",
    "\n",
    "\n",
    " #### [Back to main page](https://petrosyan.page/fall2020math3215)\n"
   ]
  },
  {
   "cell_type": "code",
   "execution_count": 6,
   "metadata": {},
   "outputs": [],
   "source": [
    "# nbi:hide_in\n",
    "import numpy as np\n",
    "import matplotlib.pyplot as plt\n",
    "plt.rcParams[\"figure.figsize\"] = (10, 5)\n",
    "\n",
    "n=100 #number of samples\n",
    "# intsize the number of class intervals\n",
    "class_num = 20\n",
    "\n",
    "mean = 2\n",
    "sigma = 3\n",
    "\n",
    "mean0 = 0\n",
    "sigma0 = 1\n",
    "\n",
    " \n",
    "data = np.random.randn(n) * sigma + mean\n",
    "\n",
    "MLEmean = np.mean(data)\n",
    "MLEvar = np.var(data)\n",
    "\n",
    "tau2 = 1/(1/sigma0**2 + n/sigma**2)\n",
    "Bmean = tau2 * ((1/sigma0**2) * mean0 + (n/sigma**2) * MLEmean)\n",
    "\n",
    "\n",
    "\n",
    "\n"
   ]
  },
  {
   "cell_type": "code",
   "execution_count": 7,
   "metadata": {},
   "outputs": [
    {
     "data": {
      "text/plain": [
       "1.9862542831542378"
      ]
     },
     "execution_count": 7,
     "metadata": {},
     "output_type": "execute_result"
    }
   ],
   "source": [
    "MLEmean\n"
   ]
  },
  {
   "cell_type": "code",
   "execution_count": 8,
   "metadata": {},
   "outputs": [
    {
     "data": {
      "text/plain": [
       "1.003830134035163"
      ]
     },
     "execution_count": 8,
     "metadata": {},
     "output_type": "execute_result"
    }
   ],
   "source": [
    "MLEvar"
   ]
  },
  {
   "cell_type": "code",
   "execution_count": null,
   "metadata": {},
   "outputs": [],
   "source": [
    "# nbi:hide_in\n",
    "import numpy as np\n",
    "import matplotlib.pyplot as plt\n",
    "plt.rcParams[\"figure.figsize\"] = (10, 5)\n",
    "\n",
    "n=100 #number of samples\n",
    "# intsize the number of class intervals\n",
    "class_num = 20\n",
    "\n",
    "mean = 2\n",
    "sigma = 3\n",
    "\n",
    "mean0 = 0\n",
    "sigma0 = 1\n",
    "\n",
    " \n",
    "data = np.random.randn(n) * sigma + mean\n",
    "\n",
    "MLEmean = np.mean(data)\n",
    "MLEvar = np.var(data)\n",
    "\n",
    "tau2 = 1/(1/sigma0**2 + n/sigma**2)\n",
    "Bmean = tau2 * ((1/sigma0**2) * mean0 + (n/sigma**2) * MLEmean)\n",
    "\n",
    "\n",
    "\n",
    "\n"
   ]
  }
 ],
 "metadata": {
  "kernelspec": {
   "display_name": "Python 3",
   "language": "python",
   "name": "python3"
  },
  "language_info": {
   "codemirror_mode": {
    "name": "ipython",
    "version": 3
   },
   "file_extension": ".py",
   "mimetype": "text/x-python",
   "name": "python",
   "nbconvert_exporter": "python",
   "pygments_lexer": "ipython3",
   "version": "3.7.7"
  }
 },
 "nbformat": 4,
 "nbformat_minor": 4
}

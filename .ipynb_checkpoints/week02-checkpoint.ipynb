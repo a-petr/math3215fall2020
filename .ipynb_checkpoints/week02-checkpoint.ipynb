{
 "cells": [
  {
   "cell_type": "markdown",
   "metadata": {
    "slideshow": {
     "slide_type": "slide"
    }
   },
   "source": [
    "# Week 2-3: Discrete random variables\n",
    "\n",
    "\n",
    " #### [Back to main page](https://petrosyan.page/fall2020math3215)\n"
   ]
  },
  {
   "cell_type": "markdown",
   "metadata": {},
   "source": [
    "___\n",
    "### Example 1\n",
    "\n",
    "Consider the  double coin flip experiment $S=\\{HH, HT, TH, TT\\}$, and define a random variable which counts the number of heads in each outcome. Then \n",
    "$$X(HH)=2,\\;X(HT)=1,\\;X(TH)=1,\\; X(TT)=0.$$\n",
    " \n",
    "Observe that Range$(X)=\\{0,1,3\\}$ and the pmf of the random variable is \n",
    "        \n",
    "$$f(0)=0.25,\\; f(1)=0.5,\\; f(2)=0.15.$$\n",
    "\n",
    "Below we draw the line graph and the histogram of the pmf of this random variable. Red circles represent the range of $X$."
   ]
  },
  {
   "cell_type": "code",
   "execution_count": 137,
   "metadata": {},
   "outputs": [
    {
     "data": {
      "image/png": "[encoded data removed]",
      "text/plain": [
       "<Figure size 864x360 with 2 Axes>"
      ]
     },
     "metadata": {
      "needs_background": "light"
     },
     "output_type": "display_data"
    }
   ],
   "source": [
    "# nbi:hide_in\n",
    "# library\n",
    "import matplotlib.pyplot as plt\n",
    "import numpy as np\n",
    "plt.rcParams[\"figure.figsize\"] = (12, 5)\n",
    "\n",
    "range_x = np.array([0, 1, 2])\n",
    "pmf_values = np.array([1/4, 1/2, 1/4])\n",
    "\n",
    "fig, [ax1, ax2] = plt.subplots(1,2, num=1, clear=True)\n",
    "\n",
    "ax1.set_ylim(-0.05,0.6) \n",
    "ax1.set_xlim(-0.7, 2.6)\n",
    "ax1.axhline(y=0, color='k')\n",
    "ax1.set_xticks(range_x)\n",
    "ax1.set_yticks(pmf_values)\n",
    "\n",
    "ax2.set_ylim(-0.05, 0.6) \n",
    "ax2.set_xlim(-0.7, 2.6)\n",
    "ax2.axhline(y=0, color='k')\n",
    "ax2.set_xticks(range_x)\n",
    "ax2.set_yticks(pmf_values)\n",
    "\n",
    "\n",
    "# Plotting line graphs using plt.stem with stems removed\n",
    "ax1.scatter(range_x,np.zeros(range_x.shape), color =\"red\", s=20)\n",
    "markers,stems,base = ax1.stem(range_x, pmf_values, markerfmt=' ', linefmt=\"blue\", basefmt=\"black\", use_line_collection=True)\n",
    "stems.set_linewidth(1.3)\n",
    "ax1.set_title(\"Line graph\")\n",
    "\n",
    "\n",
    "# PLotting with plt.bar instead of plt.hist works better when f(x) are knowwn\n",
    "ax2.scatter(range_x,np.zeros(range_x.shape), color =\"red\", s=20)\n",
    "ax2.bar(range_x, pmf_values, width=1, color=(1, 1, 1, 0), edgecolor='blue', linewidth=1.3, label=\"Histogran\")\n",
    "ax2.set_title(\"Histogram\")\n",
    "\n",
    "plt.show();\n",
    "                       "
   ]
  },
  {
   "cell_type": "markdown",
   "metadata": {},
   "source": [
    "___\n",
    "### Example 2\n",
    "\n",
    "If Range$(X)=\\{x_1,\\dots,x_k\\}$ and $P(x_1)=\\cdots=P(x_k)=\\frac{1}{k}$ then we say that $X$ has uniform distribution.\n",
    "\n",
    "in the example below, the range of $X$ is \n",
    "\n",
    "$$ \\text{Range}(X)=\\{-3, -6, 5, 9, 2, 1, 3, 8, 7, 10\\}$$\n",
    "\n",
    "with $f(x)=0.1$ for every $x\\in \\text{Range}(X).$"
   ]
  },
  {
   "cell_type": "code",
   "execution_count": 141,
   "metadata": {},
   "outputs": [
    {
     "data": {
      "image/png": "[encoded data removed]",
      "text/plain": [
       "<Figure size 864x360 with 2 Axes>"
      ]
     },
     "metadata": {
      "needs_background": "light"
     },
     "output_type": "display_data"
    }
   ],
   "source": [
    "# nbi:hide_in\n",
    "# library\n",
    "import matplotlib.pyplot as plt\n",
    "import numpy as np\n",
    "plt.rcParams[\"figure.figsize\"] = (12, 5)\n",
    "\n",
    "K=10\n",
    "range_x=np.array([-3, -6, 5, 9, 2, 1, 3, 8, 7, 10])\n",
    "pmf_values=np.ones(range_x.size)/range_x.size\n",
    "\n",
    "# Sort x and y according to order in x\n",
    "sortargs = range_x.argsort()\n",
    "range_x = range_x[sortargs]\n",
    "pmf_values = pmf_values[sortargs]\n",
    "\n",
    "#cdf values using cumsum function with padding\n",
    "cdf_values = np.cumsum(pmf_values)\n",
    "\n",
    "def padding(cdf_values, range_x):\n",
    "    edge = (range_x[0]-2, range_x[-1]+2)\n",
    "    range_x_padded = np.pad(range_x, (1,1), 'constant', constant_values=edge)\n",
    "    cdf_values_padded = np.pad(cdf_values, (1,1), 'constant', constant_values=(0, 1))\n",
    "    return cdf_values_padded, range_x_padded, edge\n",
    "\n",
    "cdf_values_padded, range_x_padded, edge = padding(cdf_values, range_x)\n",
    "# setting up the figure\n",
    "fig, [ax1, ax2] = plt.subplots(1,2, num=1, clear=True)\n",
    "\n",
    "ax1.set_ylim(-0.07,1.1)\n",
    "ax1.axhline(y=0, color='k')\n",
    "ax1.set_xlim(edge)\n",
    "ax1.set_xticks(range_x)\n",
    "ax1.set_yticks(cdf_values_padded)\n",
    "\n",
    "ax2.set_ylim(-0.07,1.1) \n",
    "ax2.axhline(y=0, color='k')\n",
    "ax2.set_xlim(edge)\n",
    "ax2.set_xticks(range_x)\n",
    "ax2.set_yticks(cdf_values_padded)\n",
    "\n",
    "\n",
    "# plot line grapghs\n",
    "ax1.scatter(range_x,np.zeros(range_x.shape), color =\"red\", s=20)\n",
    "markers,stems,base = ax1.stem(range_x, pmf_values, markerfmt=' ', linefmt=\"blue\", basefmt=\"black\", use_line_collection=True)\n",
    "stems.set_linewidth(1)\n",
    "ax1.set_title(\"pmf\")\n",
    "\n",
    "# plot cdf using step function\n",
    "ax2.scatter(range_x,np.zeros(range_x.shape), color =\"red\", s=20)\n",
    "ax2.step(range_x_padded, cdf_values_padded, linewidth=1, where='post')\n",
    "ax2.set_title(\"cdf\")\n",
    "\n",
    "plt.show();"
   ]
  },
  {
   "cell_type": "markdown",
   "metadata": {},
   "source": [
    "___\n",
    "### Relative frequency histogram for pmf\n",
    "\n",
    "Suppose our data   consists of values of the random variable on a sequence of trial outcomes. As mentioned earlier, probability of an event represents how frequent the experiment outcome terminates in the event, in a large number of repetitive trials. Hence,  the pmf at $x\\in\\text{Range}(X)$ can be empirically estimated using the relative frequency \n",
    "\n",
    " $$f_{\\text{emp}}(x)= \\frac{\\text{number of elements in data = }x}{ \\text{ size of data}}.$$\n",
    " \n",
    "Resulting relative frequency histogram will approximate the pmf histogram.\n",
    "\n",
    "In the example below, we consider the following experiment: a dice is tossed twice and the random variable is the maximum of the two tosses: \n",
    "\n",
    "$$S=\\{(i,j):\\; 1\\leq i\\leq n, 1\\leq j\\leq 6\\}$$\n",
    "\n",
    "and for any $s=(i,j)$,\n",
    "      \n",
    " $$X(i,j)=\\max\\{i,j\\}.$$\n",
    " \n",
    " It can be seen that in this case, $\\text{range}(X)=\\{1,\\dots, n\\}$ and, for any $x\\in \\text{range}(X)$,\n",
    " \n",
    " $$f(x)=\\frac{2x-1}{n^2}.$$\n",
    "\n",
    "The data consist of values of $X$ on 1000 random pairs of tosses."
   ]
  },
  {
   "cell_type": "code",
   "execution_count": 287,
   "metadata": {},
   "outputs": [
    {
     "data": {
      "image/png": "[encoded data removed]",
      "text/plain": [
       "<Figure size 576x360 with 1 Axes>"
      ]
     },
     "metadata": {
      "needs_background": "light"
     },
     "output_type": "display_data"
    }
   ],
   "source": [
    "# nbi:hide_in\n",
    "# library\n",
    "import matplotlib.pyplot as plt\n",
    "import numpy as np\n",
    "plt.rcParams[\"figure.figsize\"] = (8, 5)\n",
    "\n",
    "n = 6\n",
    "num_samples=1000\n",
    "\n",
    "range_x = np.arange(1,n+1)\n",
    "pmf_values = np.array([(2*i-1)/n**2 for i in range(1,n+1)])\n",
    "\n",
    "# generate data\n",
    "toss = np.random.randint(1,n+1,(2,num_samples))\n",
    "data = np.amax(toss, axis=0).squeeze()\n",
    "\n",
    "# compute empirical pmf\n",
    "def epmf(data):\n",
    "    erange_x, counts = np.unique(data, return_counts=True)\n",
    "    epmf_values = counts/data.size\n",
    "    return epmf_values, erange_x\n",
    "\n",
    "epmf_values, erange_x = epmf(data)\n",
    "\n",
    "# plot \n",
    "plt.ylim(-0.02,0.4) \n",
    "plt.axhline(y=0, color='k')\n",
    "plt.xticks(range_x)\n",
    "\n",
    "plt.scatter(range_x,np.zeros(range_x.shape), color =\"red\", s=20)\n",
    "plt.bar(range_x, pmf_values, width=1, color=(1, 1, 1, 0), edgecolor='blue', linewidth=1, label=\"True histogran\")\n",
    "plt.bar(erange_x, epmf_values, width=0.9, color=(1, 1, 1, 0), edgecolor='green', linewidth=1,linestyle=\"--\", label=\"Relative frequency histogram\")\n",
    "plt.legend()\n",
    "plt.show();"
   ]
  },
  {
   "cell_type": "markdown",
   "metadata": {},
   "source": [
    "___\n",
    "### Empirical cdf\n",
    "\n",
    "Similar to empirical pmf, the empirical cfd is computed as\n",
    "\n",
    "$$F_{\\text{emp}}(x)=\\frac{\\text{number of outomes }\\leq x}{\\text{size of data}}.$$\n",
    "\n",
    "We consider the double die toss experiment. Let the random variable $X$ be the maximum of two tosses. Again,   $\\text{Range}(X)=\\{1,\\dots, 6\\}$ and it can be checked that\n",
    "     $$F(x)=\n",
    "\\begin{cases}\n",
    "0 & x<1\\\\\n",
    "\\sum\\limits_{i=1}^k\\frac{2i-1}{6^2}=\\frac{k^2}{6^2} & k\\leq x<k+1, \\text{ for }k=1,\\dots,5\\\\\n",
    "1 & 6<x.\n",
    "\\end{cases}$$\n",
    "In the numerical example below we collect 1000 pairs of tosses of the die and collect the maximum value of each pair as our data. The graph shows the real and the empirical cdf-s."
   ]
  },
  {
   "cell_type": "code",
   "execution_count": 174,
   "metadata": {},
   "outputs": [
    {
     "data": {
      "image/png": "[encoded data removed]",
      "text/plain": [
       "<Figure size 576x360 with 1 Axes>"
      ]
     },
     "metadata": {
      "needs_background": "light"
     },
     "output_type": "display_data"
    }
   ],
   "source": [
    "# nbi:hide_in\n",
    "# library\n",
    "import matplotlib.pyplot as plt\n",
    "import numpy as np\n",
    "plt.rcParams[\"figure.figsize\"] = (8, 5)\n",
    "\n",
    "n = 6\n",
    "num_samples=100\n",
    "range_x = np.arange(1,n+1)\n",
    "\n",
    "# generate data\n",
    "toss = np.random.randint(1,n+1,(2,num_samples))\n",
    "data = np.amax(toss, axis=0).squeeze()\n",
    "\n",
    "# compute true cdf values\n",
    "cdf_values = np.array([i**2/n**2 for i in range(1,n+1)])\n",
    "\n",
    "# compute eepirical cdf values\n",
    "def ecdf(data):\n",
    "    erange_x, counts = np.unique(data, return_counts=True)\n",
    "    cdf_emp = np.cumsum(counts)/data.size\n",
    "    return cdf_emp, erange_x\n",
    "\n",
    "ecdf_values, erange_x = ecdf(data)\n",
    "\n",
    "# add padding \n",
    "def padding(cdf_values, range_x):\n",
    "    edge = (range_x[0]-2, range_x[-1]+2)\n",
    "    range_x_padded = np.pad(range_x, (1,1), 'constant', constant_values=edge)\n",
    "    cdf_values_padded = np.pad(cdf_values, (1,1), 'constant', constant_values=(0, 1))\n",
    "    return cdf_values_padded, range_x_padded\n",
    "\n",
    "cdf_values_padded, range_x_padded = padding(cdf_values, range_x)\n",
    "ecdf_values_padded, erange_x_padded = padding(ecdf_values, erange_x)\n",
    "\n",
    "# plot setup\n",
    "plt.ylim(-0.07,1.1)\n",
    "plt.xlim(-1.2,8.2)\n",
    "plt.axhline(y=0, color='k')\n",
    "plt.xticks(range_x)\n",
    "\n",
    "# plot cdf using step function\n",
    "plt.scatter(range_x,np.zeros(range_x.shape), color =\"red\", s=20)\n",
    "plt.step(range_x_padded, cdf_values_padded, where='post', color=\"blue\", linewidth=1, label=\"True cdf\")\n",
    "plt.step(erange_x_padded, ecdf_values_padded, where='post', color=\"green\", linewidth=1, linestyle=\"--\", label='Empirical cdf')\n",
    "plt.legend()\n",
    "\n",
    "plt.show();\n"
   ]
  },
  {
   "cell_type": "markdown",
   "metadata": {},
   "source": [
    "___\n",
    "### Hypergeometric distribution"
   ]
  },
  {
   "cell_type": "markdown",
   "metadata": {},
   "source": [
    "Suppose  $N$ balls in an urn, $K$ of which are red, the rest are blue. $n$ balls are selected without order and without replacement.    \n",
    " Let $S$ be the set of all such selections.  Consider the following random variable:for $s\\in S$, define $X(s)$ to be the number of red balls in $s$.     \n",
    " \n",
    "The  histogram of this random variable is shown below. Red circles represent the range of $X$. You can change the values of the paramaters by playing with the slider. "
   ]
  },
  {
   "cell_type": "code",
   "execution_count": 175,
   "metadata": {
    "scrolled": false
   },
   "outputs": [
    {
     "data": {
      "application/vnd.jupyter.widget-view+json": {
       "model_id": "8c48d6ecb02e47259c1c125e3bc40cac",
       "version_major": 2,
       "version_minor": 0
      },
      "text/plain": [
       "interactive(children=(IntSlider(value=80, description='N'), IntSlider(value=40, description='K'), IntSlider(va…"
      ]
     },
     "metadata": {},
     "output_type": "display_data"
    }
   ],
   "source": [
    "# nbi:hide_in\n",
    "# library\n",
    "import matplotlib.pyplot as plt\n",
    "import numpy as np\n",
    "from scipy.special import comb\n",
    "from ipywidgets import interact\n",
    "\n",
    "plt.rcParams[\"figure.figsize\"] = (20, 5)\n",
    "\n",
    "def hypergeometric_pmf(N=80,K=40,n=30):\n",
    "    range_x = np.arange(max(0, n-(N-K)), min(n, K)+1, 1)\n",
    "\n",
    "    def hyper_pmf(N,K,n,i):\n",
    "        pmf_val = comb(K, i, exact=True) * comb(N-K, n-i, exact=True) / comb(N, n, exact=True)\n",
    "        return pmf_val\n",
    "\n",
    "    pmf_values = np.array([hyper_pmf(N,K,n,i) for i in range_x])\n",
    "\n",
    "    # plot setup\n",
    "    plt.axhline(y=0, color='k')\n",
    "    plt.xlim(-2,N+2)\n",
    "    plt.xticks(np.arange(0, N+1, 2))\n",
    "\n",
    "    # PLotting with plt.bar instead of plt.hist works better when f(x) are knowwn\n",
    "    plt.scatter(range_x,np.zeros(range_x.shape), color =\"red\", s=20)\n",
    "    plt.bar(range_x, pmf_values, width=1, color=(1, 1, 1, 0), edgecolor='blue', linewidth=1.3, label=\"Histogran\")\n",
    "    plt.title(\"N={}, K={}, n={}\".format(N,K,n))\n",
    "    plt.plot();\n",
    "\n",
    "interact(hypergeometric_pmf, N=(0,100,1), K=(0,100,1), n=(0,100,1));"
   ]
  },
  {
   "cell_type": "markdown",
   "metadata": {},
   "source": [
    "___\n",
    "**Problem (1.2-15 in the textbook):*** Five cards are selected at random without replacement from a standard, thoroughly shuffled 52-card deck of playing cards. Let X equal the number of face cards (kings, queens, jacks) in the hand. Forty observations of $X$ yielded the following data:\n",
    "\n",
    "$$\\text{Data}=\\{2, 1, 2, 1, 0, 0, 1, 0, 1, 1, 0, 2, 0, 2, 3, 0, 1, 1, 0, 3,\n",
    "\t\t\t\t\t\t\t1, 2, 0, 2, 0, 2, 0, 1, 0, 1, 1, 2, 1, 0, 1, 1, 2, 1, 1, 0.\\}$$\n",
    "                            \n",
    "1.  Determine the pmf of $X$.\n",
    "2. Draw a probability histogram for this distribution.\n",
    "3. Determine the relative frequencies of 0, 1, 2, 3, and superimpose the relative frequency histogram on your probability histogram."
   ]
  },
  {
   "cell_type": "markdown",
   "metadata": {},
   "source": [
    "**Solution:** 1. $X$ has Hypergeometric distribution with parameters $(N=52, K=12, n=5)$.  $\\text{Range}(X)=\\{0,\\dots, 5\\}$ and \n",
    "\n",
    "$$f(x)=\\frac{{12\\choose x}{40 \\choose 5-x}}{{52 \\choose 5}}.$$\n",
    "\n",
    "2. Values of pmf are computed below."
   ]
  },
  {
   "cell_type": "code",
   "execution_count": 176,
   "metadata": {},
   "outputs": [
    {
     "data": {
      "text/plain": [
       "array([2.53181273e-01, 4.21968788e-01, 2.50900360e-01, 6.60264106e-02,\n",
       "       7.61843199e-03, 3.04737280e-04])"
      ]
     },
     "metadata": {},
     "output_type": "display_data"
    }
   ],
   "source": [
    "# nbi:hide_in\n",
    "import numpy as np\n",
    "from scipy.special import comb\n",
    "\n",
    "N = 52\n",
    "K = 12\n",
    "n = 5\n",
    "\n",
    "# compute the range of X\n",
    "range_x = np.arange(max(0, n-(N-K)), min(n, K)+1, 1)\n",
    "\n",
    "def hyper_pmf(N,K,n,i):\n",
    "    pmf_val = comb(K, i, exact=True) * comb(N-K, n-i, exact=True) / comb(N, n, exact=True)\n",
    "    return pmf_val\n",
    "\n",
    "pmf_values = np.array([hyper_pmf(N,K,n,i) for i in range_x])\n",
    "display(pmf_values)"
   ]
  },
  {
   "cell_type": "markdown",
   "metadata": {},
   "source": [
    "Below we compute the frequency pmf values. "
   ]
  },
  {
   "cell_type": "code",
   "execution_count": 177,
   "metadata": {},
   "outputs": [
    {
     "data": {
      "text/plain": [
       "array([0.01, 0.06, 0.15, 0.2 , 0.25, 0.33])"
      ]
     },
     "metadata": {},
     "output_type": "display_data"
    }
   ],
   "source": [
    "# nbi:hide_in\n",
    "def epmf(data):\n",
    "    erange_x, counts = np.unique(data, return_counts=True)\n",
    "    epmf_values = counts/data.size\n",
    "    return epmf_values, erange_x\n",
    "\n",
    "epmf_values, erange_x = epmf(data)\n",
    "display(epmf_values)"
   ]
  },
  {
   "cell_type": "markdown",
   "metadata": {},
   "source": [
    "And display the histogram."
   ]
  },
  {
   "cell_type": "code",
   "execution_count": 173,
   "metadata": {},
   "outputs": [
    {
     "data": {
      "image/png": "[encoded data removed]",
      "text/plain": [
       "<Figure size 720x360 with 1 Axes>"
      ]
     },
     "metadata": {
      "needs_background": "light"
     },
     "output_type": "display_data"
    }
   ],
   "source": [
    "# nbi:hide_in\n",
    "# library\n",
    "import matplotlib.pyplot as plt\n",
    "from scipy.special import comb\n",
    "plt.rcParams[\"figure.figsize\"] = (10, 5)\n",
    "\n",
    "# plot setup\n",
    "plt.axhline(y=0, color='k')\n",
    "plt.xticks(range_x)\n",
    "\n",
    "plt.scatter(range_x,np.zeros(range_x.shape), color =\"red\", s=20)\n",
    "plt.bar(range_x, pmf_values, width=1, color=(1, 1, 1, 0), edgecolor='blue', linewidth=1, label=\"True histogran\")\n",
    "plt.bar(erange_x, epmf_values, width=0.9, color=(1, 1, 1, 0), edgecolor='green', linewidth=1,linestyle=\"--\", label=\"Relative frequency histogram\")\n",
    "plt.legend()\n",
    "plt.show();"
   ]
  }
 ],
 "metadata": {
  "kernelspec": {
   "display_name": "Python 3",
   "language": "python",
   "name": "python3"
  },
  "language_info": {
   "codemirror_mode": {
    "name": "ipython",
    "version": 3
   },
   "file_extension": ".py",
   "mimetype": "text/x-python",
   "name": "python",
   "nbconvert_exporter": "python",
   "pygments_lexer": "ipython3",
   "version": "3.7.7"
  }
 },
 "nbformat": 4,
 "nbformat_minor": 4
}

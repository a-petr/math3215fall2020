{
 "cells": [
  {
   "cell_type": "markdown",
   "metadata": {
    "slideshow": {
     "slide_type": "slide"
    }
   },
   "source": [
    "# Homework code\n",
    "\n",
    "\n",
    "\n",
    " #### [Back to main page](https://petrosyan.page/fall2020math3215)\n"
   ]
  },
  {
   "cell_type": "code",
   "execution_count": null,
   "metadata": {},
   "outputs": [],
   "source": [
    "# nbi:hide_in\n",
    "import matplotlib.pyplot as plt\n",
    "import numpy as np\n",
    "\n",
    "plt.figure(figsize=(6,6))\n",
    "\n",
    "for x in range(1,7):\n",
    "    for y in range(x+1,x+7)\n",
    "    plt.scatter(y,y, color=\"red\", edgecolor=\"black\",alpha=0.3)\n",
    "    x_range.append(y)\n",
    "    y_range.append(y)\n",
    "    z_val.append(2/36)\n",
    "    for x in range(1,y):\n",
    "        x_range.append(x)\n",
    "        y_range.append(y)\n",
    "        z_val.append(1/36)\n",
    "        plt.scatter(x,y, color=\"red\", edgecolor=\"black\",alpha=0.6)\n",
    "        \n",
    "        \n",
    "plt.scatter(xmean, ymean, s=100 )        \n",
    "plt.xlabel(\"x\")\n",
    "plt.ylabel(\"y\")\n",
    "\n",
    "plt.show();"
   ]
  }
 ],
 "metadata": {
  "kernelspec": {
   "display_name": "Python 3",
   "language": "python",
   "name": "python3"
  },
  "language_info": {
   "codemirror_mode": {
    "name": "ipython",
    "version": 3
   },
   "file_extension": ".py",
   "mimetype": "text/x-python",
   "name": "python",
   "nbconvert_exporter": "python",
   "pygments_lexer": "ipython3",
   "version": "3.7.7"
  }
 },
 "nbformat": 4,
 "nbformat_minor": 4
}

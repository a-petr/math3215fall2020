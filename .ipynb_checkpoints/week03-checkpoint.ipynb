{
 "cells": [
  {
   "cell_type": "markdown",
   "metadata": {
    "slideshow": {
     "slide_type": "slide"
    }
   },
   "source": [
    "# Week 4: Mathematical expectation\n",
    "\n",
    "\n",
    " #### [Back to main page](https://petrosyan.page/fall2020math3215)\n"
   ]
  },
  {
   "cell_type": "markdown",
   "metadata": {},
   "source": [
    "### Mean value of the hypergeometric distribution"
   ]
  },
  {
   "cell_type": "markdown",
   "metadata": {},
   "source": [
    "The mean value of the hypergeometric distribution with parameters $(N,K,n)$ is equal to \n",
    "\n",
    "$$\\mu=\\frac{nK}{N}.$$\n",
    "\n",
    "As we discussed in class, the mean value was in a sense the center of the histogram: the point around which most of the histogram was concentrated. This is very vividly observed for the hypergeometric distribution. The plot bellow shows the mean value in blue for different values of $(N,K,n)$."
   ]
  },
  {
   "cell_type": "code",
   "execution_count": 138,
   "metadata": {
    "scrolled": false
   },
   "outputs": [
    {
     "data": {
      "application/vnd.jupyter.widget-view+json": {
       "model_id": "39d7445115ab4b93b5bc258d820a756f",
       "version_major": 2,
       "version_minor": 0
      },
      "text/plain": [
       "interactive(children=(IntSlider(value=80, description='N', min=1, readout_format=''), IntSlider(value=40, desc…"
      ]
     },
     "metadata": {},
     "output_type": "display_data"
    },
    {
     "data": {
      "image/png": "[encoded data removed]",
      "text/plain": [
       "<Figure size 1008x504 with 1 Axes>"
      ]
     },
     "metadata": {
      "needs_background": "light"
     },
     "output_type": "display_data"
    }
   ],
   "source": [
    "# nbi:hide_in\n",
    "import matplotlib.pyplot as plt\n",
    "import numpy as np\n",
    "from scipy.special import comb\n",
    "from ipywidgets import interact, IntSlider\n",
    "\n",
    "plt.rcParams[\"figure.figsize\"] = (14, 7)\n",
    "\n",
    "def hypergeometric_pmf(N=80,K=40,n=30):\n",
    "    range_x = np.arange(max(0, n-(N-K)), min(n, K)+1, 1)\n",
    "\n",
    "    def hyper_pmf(N,K,n,i):\n",
    "        pmf_val = comb(K, i, exact=True) * comb(N-K, n-i, exact=True) / comb(N, n, exact=True)\n",
    "        return pmf_val\n",
    "    mean = n * K / N\n",
    "\n",
    "    pmf_values = np.array([hyper_pmf(N,K,n,i) for i in range_x])\n",
    "\n",
    "    # plot setup\n",
    "    plt.axhline(y=0, color='k')\n",
    "    plt.ylim(-0.02, max(np.max(pmf_values)+0.1, 0.4))\n",
    "    plt.xlim(-2,N+2)\n",
    "    plt.xticks(np.arange(0, N+1, 2))\n",
    "\n",
    "    # PLotting with plt.bar instead of plt.hist works better when f(x) are knowwn\n",
    "    plt.scatter(np.array([mean]),np.zeros(1), color =\"blue\", s=200)\n",
    "    plt.scatter(range_x,np.zeros(range_x.shape), color =\"red\", s=20)\n",
    "    plt.bar(range_x, pmf_values, width=1, color=(1, 1, 1, 0), edgecolor='blue', linewidth=1.3, label=\"Histogran\")\n",
    "    plt.title(\"N={}, K={}, n={}, expectation={}\".format(N,K,n, mean))\n",
    "    plt.plot();\n",
    "\n",
    "# create interactive variables\n",
    "N = IntSlider(min=1.0, max=100.0, step=1.0, value=80, readout_format='')\n",
    "K = IntSlider(min=1.0, max=N.value, step=1.0, value=40, readout_format='')\n",
    "n = IntSlider(min=1.0, max=N.value, step=1.0, value=30, readout_format='')\n",
    "\n",
    "# enforce K<=N and n<=N\n",
    "def update_range(*args):\n",
    "    K.max = N.value\n",
    "    n.max = N.value\n",
    "N.observe(update_range, 'value')\n",
    "\n",
    "# display the interactive plot\n",
    "interact(hypergeometric_pmf, N=N, K=K, n=n);"
   ]
  },
  {
   "cell_type": "markdown",
   "metadata": {},
   "source": [
    "### Geometric distribution\n",
    "\n",
    "A random trial has a probability of success equal to $p$ and probability of failure $q=1-p$.Consider the following experiment: we are doing consecutive  random trials until we reach a success.The set of outcomes has the form $s=\\overbrace{FF\\cdots F}^{n-1} S$ where number of $F$'s can be any number $n=1,2,\\dots$.  Due to independence, $P(s)=q^np$.  \n",
    "\n",
    "Let $X(s)$ denote the number of trials it took to reach success\n",
    "\n",
    "$$X(\\overbrace{FF\\cdots F}^{n-1} S)=n.$$\n",
    "\n",
    "Observe that \n",
    "\n",
    "$$f(n)=q^{n-1}p,\\quad n=1,2,\\dots.$$\n",
    "\n",
    "\n"
   ]
  },
  {
   "cell_type": "markdown",
   "metadata": {},
   "source": [
    "**Definition (Geometric distribution)**\n",
    "\n",
    "<div class=\"alert alert-block alert-info\">\n",
    "\n",
    "The pmf of the random variable $X$ is called Geometric distribution.\n",
    "\n",
    "</div>    "
   ]
  },
  {
   "cell_type": "code",
   "execution_count": 104,
   "metadata": {},
   "outputs": [
    {
     "data": {
      "application/vnd.jupyter.widget-view+json": {
       "model_id": "a16a21316f6049fa8005969fe5a50f86",
       "version_major": 2,
       "version_minor": 0
      },
      "text/plain": [
       "interactive(children=(FloatSlider(value=0.5, description='p', max=1.0, min=0.01, readout_format='', step=0.01)…"
      ]
     },
     "metadata": {},
     "output_type": "display_data"
    }
   ],
   "source": [
    "# nbi:hide_in\n",
    "import matplotlib.pyplot as plt\n",
    "import numpy as np\n",
    "from ipywidgets import interact, FloatSlider\n",
    "\n",
    "plt.rcParams[\"figure.figsize\"] = (10, 10)\n",
    "\n",
    "def geometric_pmf(p=0.5):\n",
    "    q = 1-p\n",
    "    N=50\n",
    "    range_x = np.arange(1, N, 1)\n",
    "\n",
    "    def geo_pmf(n):\n",
    "        pmf_val = q**(n-1)*p\n",
    "        return pmf_val\n",
    "    mean = 1/p\n",
    "\n",
    "    pmf_values = np.array([geo_pmf(n) for n in range_x])\n",
    "\n",
    "    # plot setup\n",
    "    plt.axhline(y=0, color='k')\n",
    "    plt.ylim(-0.02, 0.6)\n",
    "    plt.xlim(0, N+1)\n",
    "    plt.xticks(np.arange(0, N+1, 5))\n",
    "\n",
    "    # PLotting with plt.bar instead of plt.hist works better when f(x) are knowwn\n",
    "    plt.scatter(np.array([mean]),np.zeros(1), color =\"blue\", s=200)\n",
    "    plt.scatter(range_x,np.zeros(range_x.shape), color =\"red\", s=20)\n",
    "    plt.bar(range_x, pmf_values, width=1, color=(1, 1, 1, 0), edgecolor='blue', linewidth=1.3, label=\"Histogran\")\n",
    "    plt.title(\"Geometric distribution, p={}\".format(p))\n",
    "    plt.plot();\n",
    "\n",
    "# create interactive variables\n",
    "p = FloatSlider(min=0.01, max=1, step=0.01, value=0.5, readout_format='')\n",
    "\n",
    "# display the interactive plot\n",
    "interact(geometric_pmf, p=p);"
   ]
  },
  {
   "cell_type": "markdown",
   "metadata": {},
   "source": [
    "### Mean and Variance under linear transformation"
   ]
  },
  {
   "cell_type": "markdown",
   "metadata": {},
   "source": [
    "**Theorem**\n",
    "\n",
    "<div class=\"alert alert-block alert-info\">\n",
    "\n",
    "Suppose $X$ is a random variable with mean $\\mu_X$ and standard deviation $\\sigma_Y$. Let $Y=aX+b$ where $a$ and $b$ are any two numbers. Then mean and the standard deviation of $Y$ are\n",
    "$$\\mu_Y=a\\mu_X+b,\\quad \\sigma_Y=|a|\\sigma_X.$$\n",
    "\n",
    "</div>    \n",
    "    \n",
    "**Proof**\n",
    "$\\mu_Y=E[aX+b]=aE[X]+b=a\\mu_X+b.$ Notice that\n",
    "\n",
    "$$\\text{Var}(Y)=E[(Y-E[Y])^2]=E[(aX+b-aE[X]-b)^2]=E[(aX-aE[X])^2]=a^2\\text{Var}(X).$$\n",
    "\n",
    "Taking square roots, we have $\\sigma_Y=|a|\\sigma_X$. $\\blacksquare$\n"
   ]
  },
  {
   "cell_type": "markdown",
   "metadata": {},
   "source": [
    "**Example**\n",
    "\n",
    "Let $X$ be a random variable with $\\text{range}(X)=\\{-2,-1,0,1,2\\}$ and \n",
    "\n",
    "$$f_X(-2)=0.4, \\quad f_X(-1)=0.25, \\quad f_X(0)=0.15, \\quad f_X(1)=0.1, \\quad f_X(2)=0.1.$$\n",
    "\n",
    "Take the random variable $Y=2X+1$.Notice that $\\text{range}(Y)=\\{-3,-1,1,3,5\\}$ and \n",
    "\n",
    "$$_Y(-3)=0.4, \\quad f_Y(-1)=0.25, \\quad f_Y(1)=0.15, \\quad f_Y(3)=0.1, \\quad f_Y(5)=0.1.$$\n",
    "\n",
    "It can be checked that \n",
    "\n",
    "$$\\mu_X=-0.75, \\quad \\sigma_X\\approx 1.414$$\n",
    "\n",
    "and thus \n",
    "\n",
    "$$\\mu_Y=-0.5, \\quad \\sigma_Y\\approx 2.828.  $$"
   ]
  },
  {
   "cell_type": "code",
   "execution_count": 103,
   "metadata": {},
   "outputs": [
    {
     "data": {
      "image/png": "[encoded data removed]",
      "text/plain": [
       "<Figure size 1440x720 with 2 Axes>"
      ]
     },
     "metadata": {
      "needs_background": "light"
     },
     "output_type": "display_data"
    }
   ],
   "source": [
    "# nbi:hide_in\n",
    "import matplotlib.pyplot as plt\n",
    "import numpy as np\n",
    "plt.rcParams[\"figure.figsize\"] = (20, 10)\n",
    "\n",
    "# values\n",
    "range_x = np.array([-2,-1,0,1,2])\n",
    "range_y = np.array([-3,-1,1,3,5])\n",
    "xpmf_values = np.array([0.4, 0.25, 0.15, 0.1, 0.1])\n",
    "ypmf_values = np.array([0.4, 0.25, 0.15, 0.1, 0.1])\n",
    "\n",
    "# mean  \n",
    "mean_x = np.average(range_x, weights = xpmf_values)\n",
    "mean_y = np.average(range_y, weights = ypmf_values)\n",
    "\n",
    "# variance\n",
    "mean_x2 = np.average(np.power(range_x,2), weights = xpmf_values)\n",
    "mean_y2 = np.average(np.power(range_y,2), weights = ypmf_values)\n",
    "var_x = mean_x2 - mean_x**2\n",
    "var_y = mean_y2 - mean_y**2\n",
    "\n",
    "# set up the figure\n",
    "fig, [ax1, ax2] = plt.subplots(1,2, num=1, clear=True)\n",
    "\n",
    "ax1.set_ylim(-0.01,0.5) \n",
    "ax1.set_xlim(-5, 10)\n",
    "ax1.axhline(y=0, color='k')\n",
    "ax1.set_xticks(range_x)\n",
    "ax1.set_yticks(xpmf_values)\n",
    "\n",
    "ax2.set_ylim(-0.01, 0.5) \n",
    "ax2.set_xlim(-5, 10)\n",
    "ax2.axhline(y=0, color='k')\n",
    "ax2.set_xticks(range_y)\n",
    "ax2.set_yticks(ypmf_values)\n",
    "\n",
    "\n",
    "# \n",
    "ax1.scatter(np.array([mean_x]),np.zeros(1), color =\"blue\", s=200)\n",
    "ax1.scatter(range_x,np.zeros(range_x.shape), color =\"red\", s=20)\n",
    "ax1.bar(range_x, xpmf_values, width=1, color=(0.1, 0.1, 1, 0.1), edgecolor='blue', linewidth=1.3, label=\"Histogran\")\n",
    "ax1.set_title(r\"$\\mu_X=${:.2f}, $\\sigma^2_X\\approx${:.3f}\".format(mean_x, var_x))\n",
    "\n",
    "\n",
    "# \n",
    "ax2.scatter(np.array([mean_y]),np.zeros(1), color =\"blue\", s=200)\n",
    "ax2.scatter(range_y,np.zeros(range_y.shape), color =\"red\", s=20)\n",
    "ax2.bar(range_y, ypmf_values, width=1, color=(0.1, 0.1, 1, 0.1), edgecolor='blue', linewidth=1.3, label=\"Histogran\")\n",
    "ax2.set_title(r\"$\\mu_Y=${:.2f}, $\\sigma^2_Y\\approx${:.3f}\".format(mean_y, var_y))\n",
    "\n",
    "plt.show();\n"
   ]
  },
  {
   "cell_type": "markdown",
   "metadata": {},
   "source": [
    "### Bernoulli trials\n",
    "\n",
    "<div class=\"alert alert-block alert-info\">\n",
    "\n",
    "**Definition**\n",
    "In Bernoulli experiment the outcome is either of Type I (success) with probability $p$ or Type II (fail) with probability $q=1-p$. \n",
    "\n",
    "</div>\n",
    "\n",
    "A **Bernoulli trials** are the outcomes of several independent Bernoulli experiments with the same success probabilities.\n",
    "\n",
    "**Example**\n",
    "Consider the coin flip experiment with a biased coin that lands head with probability $p$ and tail with probability $q=1-p$.A single coin flip will be a Bernoulli experiment.$n$ independent coin flips will be a Bernoulli trial."
   ]
  },
  {
   "cell_type": "markdown",
   "metadata": {},
   "source": [
    "### Bernoulli trials\n",
    "\n",
    "<div class=\"alert alert-block alert-info\">\n",
    "\n",
    "**Definition**\n",
    "\n",
    "Let $X$ denote the number of successes in $n$ Bernoulli trials with success probability $p$. Then we say that $X$ has the \\textbf{binomial distribution} with parameters $(n,p)$. \n",
    "\n",
    "</div>\n",
    "    \n",
    "If $X$ has binomial distribution with parameters $(n,p)$ then \n",
    "* $\\text{range}(X)=\\{0,1,\\dots, n\\}$.\n",
    "* $$f(x)={n\\choose x}p^xq^{(n-x)}$$ ${n\\choose x}$ ways there can be $x$ successes: the rest $n-x$ are failures."
   ]
  },
  {
   "cell_type": "code",
   "execution_count": 120,
   "metadata": {},
   "outputs": [
    {
     "data": {
      "application/vnd.jupyter.widget-view+json": {
       "model_id": "d4fee549f4c04ea78618b28d3ea474bd",
       "version_major": 2,
       "version_minor": 0
      },
      "text/plain": [
       "interactive(children=(IntSlider(value=50, description='n', min=1, readout_format=''), FloatSlider(value=0.5, d…"
      ]
     },
     "metadata": {},
     "output_type": "display_data"
    }
   ],
   "source": [
    "# nbi:hide_in\n",
    "import matplotlib.pyplot as plt\n",
    "import numpy as np\n",
    "from ipywidgets import interact, FloatSlider, IntSlider\n",
    "from scipy.special import comb\n",
    "\n",
    "plt.rcParams[\"figure.figsize\"] = (7, 5)\n",
    "\n",
    "def binomial_pmf(n, p):\n",
    "    q = 1-p\n",
    "    range_x = np.arange(0, n, 1)\n",
    "\n",
    "    def binom_pmf(x):\n",
    "        pmf_val = comb(n, x, exact=True) * p**x * q**(n-x)\n",
    "        return pmf_val\n",
    "    mean = n*p\n",
    "\n",
    "    pmf_values = np.array([binom_pmf(x) for x in range_x])\n",
    "\n",
    "    # plot setup\n",
    "    plt.axhline(y=0, color='k')\n",
    "    plt.ylim(-0.02, 0.3)\n",
    "    plt.xlim(-1, n+1)\n",
    "    plt.xticks(np.arange(0, n+1, 5))\n",
    "\n",
    "    # PLotting with plt.bar instead of plt.hist works better when f(x) are knowwn\n",
    "    plt.scatter(np.array([mean]),np.zeros(1), color =\"blue\", s=200)\n",
    "    plt.scatter(range_x,np.zeros(range_x.shape), color =\"red\", s=20)\n",
    "    plt.bar(range_x, pmf_values, width=1, color=(0.1, 0.1, 1, 0.1), edgecolor='blue', linewidth=1.3, label=\"Histogran\")\n",
    "    plt.title(\"Binomial distribution, n={}, p={}\".format(n, p))\n",
    "    plt.plot();\n",
    "\n",
    "# create interactive variables\n",
    "p = FloatSlider(min=0.01, max=1, step=0.01, value=0.5, readout_format='')\n",
    "n = IntSlider(min=1, max=100, step=1, value=50, readout_format='')\n",
    "# display the interactive plot\n",
    "interact(binomial_pmf, n=n, p=p);"
   ]
  }
 ],
 "metadata": {
  "kernelspec": {
   "display_name": "Python 3",
   "language": "python",
   "name": "python3"
  },
  "language_info": {
   "codemirror_mode": {
    "name": "ipython",
    "version": 3
   },
   "file_extension": ".py",
   "mimetype": "text/x-python",
   "name": "python",
   "nbconvert_exporter": "python",
   "pygments_lexer": "ipython3",
   "version": "3.7.7"
  }
 },
 "nbformat": 4,
 "nbformat_minor": 4
}

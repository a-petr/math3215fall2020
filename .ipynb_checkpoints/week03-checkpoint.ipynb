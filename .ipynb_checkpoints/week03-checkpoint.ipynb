{
 "cells": [
  {
   "cell_type": "markdown",
   "metadata": {
    "slideshow": {
     "slide_type": "slide"
    }
   },
   "source": [
    "# Week 4: Mathematical expectation\n",
    "\n",
    "\n",
    " #### [Back to main page](https://petrosyan.page/fall2020math3215)\n"
   ]
  },
  {
   "cell_type": "markdown",
   "metadata": {},
   "source": [
    "___\n",
    "### Hypergeometric distribution"
   ]
  },
  {
   "cell_type": "markdown",
   "metadata": {},
   "source": [
    "Suppose  $N$ balls in an urn, $K$ of which are red, the rest are blue. $n$ balls are selected without order and without replacement.    \n",
    " Let $S$ be the set of all such selections.  Consider the following random variable:for $s\\in S$, define $X(s)$ to be the number of red balls in $s$.     \n",
    " \n",
    "The  histogram of this random variable is shown below. Red circles represent the range of $X$. You can change the values of the paramaters by playing with the slider. "
   ]
  },
  {
   "cell_type": "code",
   "execution_count": 2,
   "metadata": {
    "scrolled": false
   },
   "outputs": [
    {
     "data": {
      "application/vnd.jupyter.widget-view+json": {
       "model_id": "5601e1d6fd5d46eab1e110b9a2b6c1a9",
       "version_major": 2,
       "version_minor": 0
      },
      "text/plain": [
       "interactive(children=(IntSlider(value=80, description='N'), IntSlider(value=40, description='K'), IntSlider(va…"
      ]
     },
     "metadata": {},
     "output_type": "display_data"
    }
   ],
   "source": [
    "# nbi:hide_in\n",
    "# library\n",
    "import matplotlib.pyplot as plt\n",
    "import numpy as np\n",
    "from scipy.special import comb\n",
    "from ipywidgets import interact\n",
    "\n",
    "plt.rcParams[\"figure.figsize\"] = (20, 5)\n",
    "\n",
    "def hypergeometric_pmf(N=80,K=40,n=30):\n",
    "    range_x = np.arange(max(0, n-(N-K)), min(n, K)+1, 1)\n",
    "\n",
    "    def hyper_pmf(N,K,n,i):\n",
    "        pmf_val = comb(K, i, exact=True) * comb(N-K, n-i, exact=True) / comb(N, n, exact=True)\n",
    "        return pmf_val\n",
    "    mean = n * K / N\n",
    "\n",
    "    pmf_values = np.array([hyper_pmf(N,K,n,i) for i in range_x])\n",
    "\n",
    "    # plot setup\n",
    "    plt.axhline(y=0, color='k')\n",
    "    plt.xlim(-2,N+2)\n",
    "    plt.xticks(np.arange(0, N+1, 2))\n",
    "\n",
    "    # PLotting with plt.bar instead of plt.hist works better when f(x) are knowwn\n",
    "    plt.scatter(np.array([mean]),np.zeros(1), color =\"blue\", s=200)\n",
    "    plt.scatter(range_x,np.zeros(range_x.shape), color =\"red\", s=20)\n",
    "    plt.bar(range_x, pmf_values, width=1, color=(1, 1, 1, 0), edgecolor='blue', linewidth=1.3, label=\"Histogran\")\n",
    "    plt.title(\"N={}, K={}, n={}\".format(N,K,n))\n",
    "    plt.plot();\n",
    "\n",
    "interact(hypergeometric_pmf, N=(0,100,1), K=(0,100,1), n=(0,100,1));"
   ]
  },
  {
   "cell_type": "code",
   "execution_count": null,
   "metadata": {},
   "outputs": [],
   "source": []
  }
 ],
 "metadata": {
  "kernelspec": {
   "display_name": "Python 3",
   "language": "python",
   "name": "python3"
  },
  "language_info": {
   "codemirror_mode": {
    "name": "ipython",
    "version": 3
   },
   "file_extension": ".py",
   "mimetype": "text/x-python",
   "name": "python",
   "nbconvert_exporter": "python",
   "pygments_lexer": "ipython3",
   "version": "3.7.7"
  }
 },
 "nbformat": 4,
 "nbformat_minor": 4
}

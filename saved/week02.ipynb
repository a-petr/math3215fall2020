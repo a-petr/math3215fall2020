{
 "cells": [
  {
   "cell_type": "markdown",
   "metadata": {
    "slideshow": {
     "slide_type": "slide"
    }
   },
   "source": [
    "# Week 2-3: Discrete random variables\n",
    "\n",
    "\n",
    " #### [Back to main page](https://petrosyan.page/fall2020math3215)\n"
   ]
  },
  {
   "cell_type": "markdown",
   "metadata": {},
   "source": [
    "___\n",
    "### Example 1\n",
    "\n",
    "Consider the  double coin flip experiment $S=\\{HH, HT, TH, TT\\}$, and define a random variable which counts the number of heads in each outcome. Then \n",
    "$$X(HH)=2,\\;X(HT)=1,\\;X(TH)=1,\\; X(TT)=0.$$\n",
    " \n",
    "Observe that Range$(X)=\\{0,1,3\\}$ and the pmf of the random variable is \n",
    "        \n",
    "$$f(0)=0.25,\\; f(1)=0.5,\\; f(2)=0.15.$$\n",
    "\n",
    "Below we draw the line graph and the histogram of the pmf of this random variable."
   ]
  },
  {
   "cell_type": "code",
   "execution_count": 30,
   "metadata": {},
   "outputs": [
    {
     "data": {
      "image/png": "[encoded data removed]",
      "text/plain": [
       "<Figure size 864x360 with 2 Axes>"
      ]
     },
     "metadata": {
      "needs_background": "light"
     },
     "output_type": "display_data"
    }
   ],
   "source": [
    "# nbi:hide_in\n",
    "# library\n",
    "import matplotlib.pyplot as plt\n",
    "import numpy as np\n",
    "plt.rcParams[\"figure.figsize\"] = (12, 5)\n",
    "\n",
    "range_x = np.array([0, 1, 2])\n",
    "pmf_values = np.array([1/4, 1/2, 1/4])\n",
    "\n",
    "fig, [ax1, ax2] = plt.subplots(1,2, num=1, clear=True)\n",
    "\n",
    "ax1.set_ylim(-0.05,0.6) \n",
    "ax1.set_xlim(-0.7, 2.6)\n",
    "ax1.axhline(y=0, color='k')\n",
    "ax1.set_xticks(range_x)\n",
    "ax1.set_yticks(pmf_values)\n",
    "\n",
    "ax2.set_ylim(-0.05, 0.6) \n",
    "ax2.set_xlim(-0.7, 2.6)\n",
    "ax2.axhline(y=0, color='k')\n",
    "ax2.set_xticks(range_x)\n",
    "ax2.set_yticks(pmf_values)\n",
    "\n",
    "\n",
    "# Plotting line graphs using plt.stem with stems removed\n",
    "ax1.scatter(range_x,np.zeros(range_x.shape), color =\"red\", s=20)\n",
    "markers,stems,base = ax1.stem(range_x, pmf_values, markerfmt=' ', linefmt=\"blue\", basefmt=\"black\", use_line_collection=True)\n",
    "stems.set_linewidth(1.3)\n",
    "ax1.set_title(\"Line graph\")\n",
    "\n",
    "\n",
    "# PLotting with plt.bar instead of plt.hist works better when f(x) are knowwn\n",
    "ax2.scatter(range_x,np.zeros(range_x.shape), color =\"red\", s=20)\n",
    "ax2.bar(range_x, pmf_values, width=1, color=(1, 1, 1, 0), edgecolor='blue', linewidth=1.3, label=\"Histogran\")\n",
    "ax2.set_title(\"Histogram\")\n",
    "\n",
    "plt.show();\n",
    "                       "
   ]
  },
  {
   "cell_type": "markdown",
   "metadata": {},
   "source": [
    "___\n",
    "### Example 2\n",
    "\n",
    "If Range$(X)=\\{x_1,\\dots,x_k\\}$ and $P(x_1)=\\cdots=P(x_k)=\\frac{1}{k}$ then we say that $X$ has uniform distribution.\n",
    "\n",
    "in the example below, the range of $X$ is \n",
    "\n",
    "$$ \\text{Range}(X)=\\{-3, -6, 5, 9, 2, 1, 3, 8, 7, 10\\}$$\n",
    "\n",
    "with $f(x)=0.1$ for every $x\\in \\text{Range}(X).$"
   ]
  },
  {
   "cell_type": "code",
   "execution_count": 31,
   "metadata": {},
   "outputs": [
    {
     "data": {
      "image/png": "[encoded data removed]",
      "text/plain": [
       "<Figure size 864x360 with 2 Axes>"
      ]
     },
     "metadata": {
      "needs_background": "light"
     },
     "output_type": "display_data"
    }
   ],
   "source": [
    "# nbi:hide_in\n",
    "# library\n",
    "import matplotlib.pyplot as plt\n",
    "import numpy as np\n",
    "plt.rcParams[\"figure.figsize\"] = (12, 5)\n",
    "\n",
    "K=10\n",
    "range_x=np.array([-3, -6, 5, 9, 2, 1, 3, 8, 7, 10])\n",
    "pmf_values=np.ones(range_x.size)/range_x.size\n",
    "\n",
    "# Sort x and y according to order in x\n",
    "sortargs = range_x.argsort()\n",
    "range_x = range_x[sortargs]\n",
    "pmf_values = pmf_values[sortargs]\n",
    "\n",
    "#cdf values using cumsum function with padding\n",
    "cdf_values = np.cumsum(pmf_values)\n",
    "\n",
    "def padding(cdf_values, range_x):\n",
    "    edge = (range_x[0]-2, range_x[-1]+2)\n",
    "    range_x_padded = np.pad(range_x, (1,1), 'constant', constant_values=edge)\n",
    "    cdf_values_padded = np.pad(cdf_values, (1,1), 'constant', constant_values=(0, 1))\n",
    "    return cdf_values_padded, range_x_padded, edge\n",
    "\n",
    "cdf_values_padded, range_x_padded, edge = padding(cdf_values, range_x)\n",
    "# setting up the figure\n",
    "fig, [ax1, ax2] = plt.subplots(1,2, num=1, clear=True)\n",
    "\n",
    "ax1.set_ylim(-0.07,1.1)\n",
    "ax1.axhline(y=0, color='k')\n",
    "ax1.set_xlim(edge)\n",
    "ax1.set_xticks(range_x)\n",
    "ax1.set_yticks(cdf_values_padded)\n",
    "\n",
    "ax2.set_ylim(-0.07,1.1) \n",
    "ax2.axhline(y=0, color='k')\n",
    "ax2.set_xlim(edge)\n",
    "ax2.set_xticks(range_x)\n",
    "ax2.set_yticks(cdf_values_padded)\n",
    "\n",
    "\n",
    "# plot line grapghs\n",
    "ax1.scatter(range_x,np.zeros(range_x.shape), color =\"red\", s=20)\n",
    "markers,stems,base = ax1.stem(range_x, pmf_values, markerfmt=' ', linefmt=\"blue\", basefmt=\"black\", use_line_collection=True)\n",
    "stems.set_linewidth(1)\n",
    "ax1.set_title(\"pmf\")\n",
    "\n",
    "# plot cdf using step function\n",
    "ax2.scatter(range_x,np.zeros(range_x.shape), color =\"red\", s=20)\n",
    "ax2.step(range_x_padded, cdf_values_padded, linewidth=1, where='post')\n",
    "ax2.set_title(\"cdf\")\n",
    "\n",
    "plt.show();"
   ]
  },
  {
   "cell_type": "code",
   "execution_count": 51,
   "metadata": {},
   "outputs": [
    {
     "data": {
      "image/png": "[encoded data removed]",
      "text/plain": [
       "<Figure size 864x360 with 1 Axes>"
      ]
     },
     "metadata": {
      "needs_background": "light"
     },
     "output_type": "display_data"
    }
   ],
   "source": [
    "# nbi:hide_in\n",
    "# library\n",
    "import matplotlib.pyplot as plt\n",
    "import numpy as np\n",
    "plt.rcParams[\"figure.figsize\"] = (12, 5)\n",
    "\n",
    "K=10\n",
    "range_x=np.array([0,1,2,3,4,5,6,7])\n",
    "pmf_values=np.ones(range_x.size)/range_x.size\n",
    "\n",
    "# Sort x and y according to order in x\n",
    "sortargs = range_x.argsort()\n",
    "range_x = range_x[sortargs]\n",
    "pmf_values = pmf_values[sortargs]\n",
    "\n",
    "#cdf values using cumsum function with padding\n",
    "cdf_values = np.cumsum(pmf_values)\n",
    "\n",
    "def padding(cdf_values, range_x):\n",
    "    edge = (range_x[0]-1, range_x[-1]+1)\n",
    "    range_x_padded = np.pad(range_x, (1,1), 'constant', constant_values=edge)\n",
    "    cdf_values_padded = np.pad(cdf_values, (1,1), 'constant', constant_values=(0, 1))\n",
    "    return cdf_values_padded, range_x_padded, edge\n",
    "\n",
    "cdf_values_padded, range_x_padded, edge = padding(cdf_values, range_x)\n",
    "# setting up the figure\n",
    "fig, ax = plt.subplots()\n",
    "\n",
    "ax.set_ylim(-0.07,0.2)\n",
    "ax.axhline(y=0, color='k')\n",
    "ax.set_xlim(edge)\n",
    "ax.set_xticks(range_x)\n",
    "ax.set_yticks(pmf_values)\n",
    "\n",
    "# plot line graphs\n",
    "ax.scatter(range_x,np.zeros(range_x.shape), color =\"red\", s=20)\n",
    "markers,stems,base = ax.stem(range_x, pmf_values, markerfmt=' ', linefmt=\"blue\", basefmt=\"black\", use_line_collection=True)\n",
    "stems.set_linewidth(1)\n",
    "ax.set_title(\"pmf\")\n",
    "\n",
    "\n",
    "plt.show();"
   ]
  },
  {
   "cell_type": "markdown",
   "metadata": {},
   "source": [
    "___\n",
    "### Relative frequency histogram for pmf\n",
    "\n",
    "Suppose our data   consists of values of the random variable on a sequence of trial outcomes. As mentioned earlier, probability of an event represents how frequent the experiment outcome terminates in the event, in a large number of repetitive trials. Hence,  the pmf at $x\\in\\text{Range}(X)$ can be empirically estimated using the relative frequency \n",
    "\n",
    " $$f_{\\text{emp}}(x)= \\frac{\\text{number of elements in data = }x}{ \\text{ size of data}}.$$\n",
    " \n",
    "Resulting relative frequency histogram will approximate the pmf histogram.\n",
    "\n",
    "In the example below, we consider the following experiment: a dice is tossed twice and the random variable is the maximum of the two tosses: \n",
    "\n",
    "$$S=\\{(i,j):\\; 1\\leq i\\leq n, 1\\leq j\\leq 6\\}$$\n",
    "\n",
    "and for any $s=(i,j)$,\n",
    "      \n",
    " $$X(i,j)=\\max\\{i,j\\}.$$\n",
    " \n",
    " It can be seen that in this case, $\\text{range}(X)=\\{1,\\dots, n\\}$ and, for any $x\\in \\text{range}(X)$,\n",
    " \n",
    " $$f(x)=\\frac{2x-1}{n^2}.$$\n",
    "\n",
    "The data consist of values of $X$ on 1000 random pairs of tosses."
   ]
  },
  {
   "cell_type": "code",
   "execution_count": 8,
   "metadata": {},
   "outputs": [
    {
     "data": {
      "image/png": "[encoded data removed]",
      "text/plain": [
       "<Figure size 576x360 with 1 Axes>"
      ]
     },
     "metadata": {
      "needs_background": "light"
     },
     "output_type": "display_data"
    }
   ],
   "source": [
    "# nbi:hide_in\n",
    "# library\n",
    "import matplotlib.pyplot as plt\n",
    "import numpy as np\n",
    "plt.rcParams[\"figure.figsize\"] = (8, 5)\n",
    "\n",
    "n = 6\n",
    "num_samples=1000\n",
    "\n",
    "range_x = np.arange(1,n+1)\n",
    "pmf_values = np.array([(2*i-1)/n**2 for i in range(1,n+1)])\n",
    "\n",
    "# generate data\n",
    "toss = np.random.randint(1,n+1,(2,num_samples))\n",
    "data = np.amax(toss, axis=0).squeeze()\n",
    "\n",
    "# compute empirical pmf\n",
    "def epmf(data):\n",
    "    erange_x, counts = np.unique(data, return_counts=True)\n",
    "    epmf_values = counts/data.size\n",
    "    return epmf_values, erange_x\n",
    "\n",
    "epmf_values, erange_x = epmf(data)\n",
    "\n",
    "# plot \n",
    "plt.ylim(-0.02,0.4) \n",
    "plt.axhline(y=0, color='k')\n",
    "plt.xticks(range_x)\n",
    "\n",
    "plt.scatter(range_x,np.zeros(range_x.shape), color =\"red\", s=20)\n",
    "plt.bar(range_x, pmf_values, width=1, color=(1, 1, 1, 0), edgecolor='blue', linewidth=1, label=\"True histogran\")\n",
    "plt.bar(erange_x, epmf_values, width=0.9, color=(1, 1, 1, 0), edgecolor='green', linewidth=1,linestyle=\"--\", label=\"Relative frequency histogram\")\n",
    "plt.legend()\n",
    "plt.show();"
   ]
  },
  {
   "cell_type": "markdown",
   "metadata": {},
   "source": [
    "___\n",
    "### Empirical cdf\n",
    "\n",
    "Similar to empirical pmf, the empirical cfd is computed as\n",
    "\n",
    "$$F_{\\text{emp}}(x)=\\frac{\\text{number of outomes }\\leq x}{\\text{size of data}}.$$\n",
    "\n",
    "We consider the double die toss experiment. Let the random variable $X$ be the maximum of two tosses. Again,   $\\text{Range}(X)=\\{1,\\dots, 6\\}$ and it can be checked that\n",
    "     $$F(x)=\n",
    "\\begin{cases}\n",
    "0 & x<1\\\\\n",
    "\\sum\\limits_{i=1}^k\\frac{2i-1}{6^2}=\\frac{k^2}{6^2} & k\\leq x<k+1, \\text{ for }k=1,\\dots,5\\\\\n",
    "1 & 6<x.\n",
    "\\end{cases}$$\n",
    "In the numerical example below we collect 1000 pairs of tosses of the die and collect the maximum value of each pair as our data. The graph shows the real and the empirical cdf-s."
   ]
  },
  {
   "cell_type": "code",
   "execution_count": 9,
   "metadata": {},
   "outputs": [
    {
     "data": {
      "image/png": "[encoded data removed]",
      "text/plain": [
       "<Figure size 576x360 with 1 Axes>"
      ]
     },
     "metadata": {
      "needs_background": "light"
     },
     "output_type": "display_data"
    }
   ],
   "source": [
    "# nbi:hide_in\n",
    "# library\n",
    "import matplotlib.pyplot as plt\n",
    "import numpy as np\n",
    "plt.rcParams[\"figure.figsize\"] = (8, 5)\n",
    "\n",
    "n = 6\n",
    "num_samples=100\n",
    "range_x = np.arange(1,n+1)\n",
    "\n",
    "# generate data\n",
    "toss = np.random.randint(1,n+1,(2,num_samples))\n",
    "data = np.amax(toss, axis=0).squeeze()\n",
    "\n",
    "# compute true cdf values\n",
    "cdf_values = np.array([i**2/n**2 for i in range(1,n+1)])\n",
    "\n",
    "# compute eepirical cdf values\n",
    "def ecdf(data):\n",
    "    erange_x, counts = np.unique(data, return_counts=True)\n",
    "    cdf_emp = np.cumsum(counts)/data.size\n",
    "    return cdf_emp, erange_x\n",
    "\n",
    "ecdf_values, erange_x = ecdf(data)\n",
    "\n",
    "# add padding \n",
    "def padding(cdf_values, range_x):\n",
    "    edge = (range_x[0]-2, range_x[-1]+2)\n",
    "    range_x_padded = np.pad(range_x, (1,1), 'constant', constant_values=edge)\n",
    "    cdf_values_padded = np.pad(cdf_values, (1,1), 'constant', constant_values=(0, 1))\n",
    "    return cdf_values_padded, range_x_padded\n",
    "\n",
    "cdf_values_padded, range_x_padded = padding(cdf_values, range_x)\n",
    "ecdf_values_padded, erange_x_padded = padding(ecdf_values, erange_x)\n",
    "\n",
    "# plot setup\n",
    "plt.ylim(-0.07,1.1)\n",
    "plt.xlim(-1.2,8.2)\n",
    "plt.axhline(y=0, color='k')\n",
    "plt.xticks(range_x)\n",
    "\n",
    "# plot cdf using step function\n",
    "plt.scatter(range_x,np.zeros(range_x.shape), color =\"red\", s=20)\n",
    "plt.step(range_x_padded, cdf_values_padded, where='post', color=\"blue\", linewidth=1, label=\"True cdf\")\n",
    "plt.step(erange_x_padded, ecdf_values_padded, where='post', color=\"green\", linewidth=1, linestyle=\"--\", label='Empirical cdf')\n",
    "plt.legend()\n",
    "\n",
    "plt.show();\n"
   ]
  },
  {
   "cell_type": "markdown",
   "metadata": {},
   "source": [
    "___\n",
    "### Hypergeometric distribution"
   ]
  },
  {
   "cell_type": "markdown",
   "metadata": {},
   "source": [
    "Suppose  $N$ balls in an urn, $K$ of which are red, the rest are blue. $n$ balls are selected without order and without replacement.    \n",
    " Let $S$ be the set of all such selections.  Consider the following random variable:for $s\\in S$, define $X(s)$ to be the number of red balls in $s$.     "
   ]
  },
  {
   "cell_type": "code",
   "execution_count": 32,
   "metadata": {
    "scrolled": false
   },
   "outputs": [
    {
     "data": {
      "application/vnd.jupyter.widget-view+json": {
       "model_id": "9c624f0de00747d58c8b1a8017b7e722",
       "version_major": 2,
       "version_minor": 0
      },
      "text/plain": [
       "interactive(children=(IntSlider(value=100, description='N'), IntSlider(value=30, description='K'), IntSlider(v…"
      ]
     },
     "metadata": {},
     "output_type": "display_data"
    }
   ],
   "source": [
    "# nbi:hide_in\n",
    "# library\n",
    "import matplotlib.pyplot as plt\n",
    "import numpy as np\n",
    "from scipy.special import comb\n",
    "from ipywidgets import interact\n",
    "\n",
    "plt.rcParams[\"figure.figsize\"] = (20, 10)\n",
    "\n",
    "def hypergeometric_pmf(N=100,K=30,n=5):\n",
    "    range_x = np.arange(max(0, n-(N-K)), min(n, K)+1, 1)\n",
    "\n",
    "    def hyper_pmf(N,K,n,i):\n",
    "        pmf_val = comb(K, i, exact=True) * comb(N-K, n-i, exact=True) / comb(N, n, exact=True)\n",
    "        return pmf_val\n",
    "\n",
    "    pmf_values = np.array([hyper_pmf(N,K,n,i) for i in range_x])\n",
    "\n",
    "    # plot setup\n",
    "    plt.axhline(y=0, color='k')\n",
    "    plt.xlim(0,50)\n",
    "    plt.xticks(np.arange(0, 50, 1))\n",
    "\n",
    "\n",
    "\n",
    "    # PLotting with plt.bar instead of plt.hist works better when f(x) are knowwn\n",
    "    plt.scatter(range_x,np.zeros(range_x.shape), color =\"red\", s=20)\n",
    "    plt.bar(range_x, pmf_values, width=1, color=(1, 1, 1, 0), edgecolor='blue', linewidth=1.3, label=\"Histogran\")\n",
    "    plt.title(\"N={}, K={}, n={}\".format(N,K,n))\n",
    "    plt.plot();\n",
    "\n",
    "interact(hypergeometric_pmf, N=(0,100,1), K=(0,100,1), n=(0,100,1));"
   ]
  },
  {
   "cell_type": "code",
   "execution_count": 25,
   "metadata": {},
   "outputs": [
    {
     "data": {
      "image/png": "[encoded data removed]",
      "text/plain": [
       "<Figure size 1440x720 with 1 Axes>"
      ]
     },
     "metadata": {
      "needs_background": "light"
     },
     "output_type": "display_data"
    },
    {
     "name": "stdout",
     "output_type": "stream",
     "text": [
      "[1 1 3 2 4 1 3 2 2 2 2 2 2 1 0 1 2 0 2 0 2 1 2 2 2 1 0 3 0 3 0 2 2 2 0 0 1\n",
      " 3 2 1 3 0 1 2 1 3 2 2 2 0 1 1 3 0 3 3 3 1 2 3 3 1 2 2 2 2 3 2 2 1 2 2 0 3\n",
      " 1 0 2 0 1 2 0 2 1 0 2 0 0 1 4 2 3 2 3 2 2 3 1 1 1 1 2 2 2 1 1 0 1 1 3 3 4\n",
      " 4 4 2 2 1 3 1 0 3 1 3 1 0 1 0 2 1 1 3 3 0 1 2 3 1 1 1 2 2 1 2 2 1 3 2 2 1\n",
      " 0 4 0 2 2 0 1 2 2 1 2 2 0 1 2 3 2 2 0 3 1 3 0 0 1 2 1 0 2 1 4 1 2 1 1 2 1\n",
      " 3 1 1 2 2 1 1 1 2 1 1 3 3 3 2 1 0 2 2 2 2 1 1 2 0 3 1 1 1 0 3 2 2 2 3 2 1\n",
      " 2 0 2 3 1 3 1 1 0 1 0 0 1 0 2 1 0 1 3 0 1 1 3 0 2 1 3 1 1 1 3 2 1 2 0 2 0\n",
      " 1 2 0 2 1 2 2 2 0 1 1 2 1 0 3 1 0 1 1 0 2 1 3 2 0 3 1 2 0 1 1 3 2 1 2 0 2\n",
      " 2 3 0 1 1 0 3 2 2 1 1 2 3 2 5 3 0 2 2 0 0 2 2 1 0 1 0 0 3 3 1 1 1 4 2 1 3\n",
      " 2 1 1 0 2 0 1 3 1 2 0 2 1 3 1 0 1 1 2 0 0 0 2 1 1 3 1 1 3 3 0 2 2 3 1 1 1\n",
      " 2 1 2 2 0 1 2 0 2 1 1 1 2 0 0 1 2 1 2 1 2 3 2 1 0 0 2 3 1 2 1 3 1 0 1 0 2\n",
      " 1 2 2 3 2 3 2 1 1 1 1 3 1 1 2 2 0 2 2 1 0 3 2 1 1 2 1 3 2 1 1 3 0 0 1 2 3\n",
      " 0 2 3 1 1 1 0 0 1 1 3 1 3 1 3 0 3 2 1 2 2 2 1 3 3 2 3 1 2 1 1 2 3 2 4 2 3\n",
      " 0 2 2 2 0 0 3 3 2 0 2 1 3 3 1 1 3 2 2 3 0 1 3 3 1 0 1 1 2 3 0 1 3 0 2 1 2\n",
      " 2 2 2 2 0 1 0 1 1 3 1 3 0 1 2 1 1 1 2 2 2 4 4 1 3 1 3 2 1 0 3 1 1 1 2 2 2\n",
      " 1 3 3 1 1 2 1 2 0 1 0 2 0 2 2 1 2 2 2 2 2 1 1 2 0 1 1 2 1 0 1 2 2 0 2 2 2\n",
      " 3 3 2 1 0 1 2 1 2 1 1 2 0 2 1 2 1 3 1 1 2 2 1 1 1 3 2 2 1 2 1 2 1 1 3 2 0\n",
      " 0 1 1 1 0 1 2 1 2 4 2 0 2 0 1 2 1 2 2 3 1 2 1 2 1 0 2 2 3 2 1 0 5 1 2 1 0\n",
      " 1 2 2 3 3 1 1 1 1 1 3 2 2 0 1 2 2 2 0 2 1 1 0 2 1 0 2 2 0 2 2 2 1 3 3 2 1\n",
      " 1 1 4 1 2 0 1 2 0 2 1 0 2 2 1 2 2 2 3 3 0 1 2 2 2 2 0 2 3 2 1 2 1 0 2 0 1\n",
      " 2 1 1 0 1 1 0 2 1 2 1 2 3 2 2 0 1 1 3 1 1 2 2 2 3 2 2 1 2 3 1 3 1 2 2 0 1\n",
      " 2 2 2 2 2 3 2 3 1 0 2 1 1 1 1 2 3 0 2 1 2 1 1 2 0 0 2 2 2 2 3 1 2 1 2 0 2\n",
      " 1 0 2 0 0 1 4 2 3 2 1 1 2 1 5 1 1 2 0 1 2 3 2 1 1 2 1 5 1 2 0 1 1 2 0 1 2\n",
      " 3 1 0 2 1 0 0 1 0 2 0 1 2 1 1 1 2 0 0 1 1 1 1 1 0 0 3 1 1 2 0 3 2 1 2 2 1\n",
      " 2 1 1 1 0 1 1 2 1 0 2 2 2 1 3 2 3 1 0 2 1 2 2 2 1 0 0 2 3 0 0 1 3 3 1 2 2\n",
      " 2 1 3 2 1 0 1 2 2 1 2 1 2 2 2 2 1 2 1 2 0 0 2 1 3 1 3 1 1 1 2 1 3 0 3 0 1\n",
      " 2 2 2 0 3 1 3 1 2 1 1 1 4 1 2 0 4 3 2 0 2 3 3 2 1 0 3 1 2 0 1 1 4 3 1 1 0\n",
      " 2]\n"
     ]
    }
   ],
   "source": [
    "# nbi:hide_in\n",
    "# library\n",
    "import matplotlib.pyplot as plt\n",
    "import numpy as np\n",
    "from scipy.special import comb\n",
    "plt.rcParams[\"figure.figsize\"] = (20, 10)\n",
    "\n",
    "N = 100\n",
    "K = 30\n",
    "n = 5\n",
    "num_samples=1000\n",
    "\n",
    "\n",
    "range_x = np.arange(max(0, n-(N-K)), min(n, K)+1, 1)\n",
    "def hyper_pmf(N,K,n,i):\n",
    "        pmf_val = comb(K, i, exact=True) * comb(N-K, n-i, exact=True) / comb(N, n, exact=True)\n",
    "        return pmf_val\n",
    "\n",
    "pmf_values = np.array([hyper_pmf(N,K,n,i) for i in range_x])\n",
    "\n",
    "# generate data\n",
    "data = np.random.hypergeometric(K, N-K, n, num_samples)\n",
    "\n",
    "\n",
    "# compute empirical pmf\n",
    "def epmf(data):\n",
    "    erange_x, counts = np.unique(data, return_counts=True)\n",
    "    epmf_values = counts/data.size\n",
    "    return epmf_values, erange_x\n",
    "\n",
    "epmf_values, erange_x = epmf(data)\n",
    "\n",
    "# plot setup\n",
    "plt.axhline(y=0, color='k')\n",
    "#plt.xlim(-1,N)\n",
    "#plt.xticks(np.arange(0, N, 1))\n",
    "plt.xticks(range_x)\n",
    "\n",
    "plt.scatter(range_x,np.zeros(range_x.shape), color =\"red\", s=20)\n",
    "plt.bar(range_x, pmf_values, width=1, color=(1, 1, 1, 0), edgecolor='blue', linewidth=1, label=\"True histogran\")\n",
    "plt.bar(erange_x, epmf_values, width=0.9, color=(1, 1, 1, 0), edgecolor='green', linewidth=1,linestyle=\"--\", label=\"Relative frequency histogram\")\n",
    "plt.legend()\n",
    "plt.show();\n",
    "\n",
    "print(data)"
   ]
  },
  {
   "cell_type": "code",
   "execution_count": 26,
   "metadata": {},
   "outputs": [
    {
     "data": {
      "text/plain": [
       "array([1, 1, 3, 2, 4, 1, 3, 2, 2, 2, 2, 2, 2, 1, 0, 1, 2, 0, 2, 0, 2, 1,\n",
       "       2, 2, 2, 1, 0, 3, 0, 3, 0, 2, 2, 2, 0, 0, 1, 3, 2, 1, 3, 0, 1, 2,\n",
       "       1, 3, 2, 2, 2, 0, 1, 1, 3, 0, 3, 3, 3, 1, 2, 3, 3, 1, 2, 2, 2, 2,\n",
       "       3, 2, 2, 1, 2, 2, 0, 3, 1, 0, 2, 0, 1, 2, 0, 2, 1, 0, 2, 0, 0, 1,\n",
       "       4, 2, 3, 2, 3, 2, 2, 3, 1, 1, 1, 1, 2, 2, 2, 1, 1, 0, 1, 1, 3, 3,\n",
       "       4, 4, 4, 2, 2, 1, 3, 1, 0, 3, 1, 3, 1, 0, 1, 0, 2, 1, 1, 3, 3, 0,\n",
       "       1, 2, 3, 1, 1, 1, 2, 2, 1, 2, 2, 1, 3, 2, 2, 1, 0, 4, 0, 2, 2, 0,\n",
       "       1, 2, 2, 1, 2, 2, 0, 1, 2, 3, 2, 2, 0, 3, 1, 3, 0, 0, 1, 2, 1, 0,\n",
       "       2, 1, 4, 1, 2, 1, 1, 2, 1, 3, 1, 1, 2, 2, 1, 1, 1, 2, 1, 1, 3, 3,\n",
       "       3, 2, 1, 0, 2, 2, 2, 2, 1, 1, 2, 0, 3, 1, 1, 1, 0, 3, 2, 2, 2, 3,\n",
       "       2, 1, 2, 0, 2, 3, 1, 3, 1, 1, 0, 1, 0, 0, 1, 0, 2, 1, 0, 1, 3, 0,\n",
       "       1, 1, 3, 0, 2, 1, 3, 1, 1, 1, 3, 2, 1, 2, 0, 2, 0, 1, 2, 0, 2, 1,\n",
       "       2, 2, 2, 0, 1, 1, 2, 1, 0, 3, 1, 0, 1, 1, 0, 2, 1, 3, 2, 0, 3, 1,\n",
       "       2, 0, 1, 1, 3, 2, 1, 2, 0, 2, 2, 3, 0, 1, 1, 0, 3, 2, 2, 1, 1, 2,\n",
       "       3, 2, 5, 3, 0, 2, 2, 0, 0, 2, 2, 1, 0, 1, 0, 0, 3, 3, 1, 1, 1, 4,\n",
       "       2, 1, 3, 2, 1, 1, 0, 2, 0, 1, 3, 1, 2, 0, 2, 1, 3, 1, 0, 1, 1, 2,\n",
       "       0, 0, 0, 2, 1, 1, 3, 1, 1, 3, 3, 0, 2, 2, 3, 1, 1, 1, 2, 1, 2, 2,\n",
       "       0, 1, 2, 0, 2, 1, 1, 1, 2, 0, 0, 1, 2, 1, 2, 1, 2, 3, 2, 1, 0, 0,\n",
       "       2, 3, 1, 2, 1, 3, 1, 0, 1, 0, 2, 1, 2, 2, 3, 2, 3, 2, 1, 1, 1, 1,\n",
       "       3, 1, 1, 2, 2, 0, 2, 2, 1, 0, 3, 2, 1, 1, 2, 1, 3, 2, 1, 1, 3, 0,\n",
       "       0, 1, 2, 3, 0, 2, 3, 1, 1, 1, 0, 0, 1, 1, 3, 1, 3, 1, 3, 0, 3, 2,\n",
       "       1, 2, 2, 2, 1, 3, 3, 2, 3, 1, 2, 1, 1, 2, 3, 2, 4, 2, 3, 0, 2, 2,\n",
       "       2, 0, 0, 3, 3, 2, 0, 2, 1, 3, 3, 1, 1, 3, 2, 2, 3, 0, 1, 3, 3, 1,\n",
       "       0, 1, 1, 2, 3, 0, 1, 3, 0, 2, 1, 2, 2, 2, 2, 2, 0, 1, 0, 1, 1, 3,\n",
       "       1, 3, 0, 1, 2, 1, 1, 1, 2, 2, 2, 4, 4, 1, 3, 1, 3, 2, 1, 0, 3, 1,\n",
       "       1, 1, 2, 2, 2, 1, 3, 3, 1, 1, 2, 1, 2, 0, 1, 0, 2, 0, 2, 2, 1, 2,\n",
       "       2, 2, 2, 2, 1, 1, 2, 0, 1, 1, 2, 1, 0, 1, 2, 2, 0, 2, 2, 2, 3, 3,\n",
       "       2, 1, 0, 1, 2, 1, 2, 1, 1, 2, 0, 2, 1, 2, 1, 3, 1, 1, 2, 2, 1, 1,\n",
       "       1, 3, 2, 2, 1, 2, 1, 2, 1, 1, 3, 2, 0, 0, 1, 1, 1, 0, 1, 2, 1, 2,\n",
       "       4, 2, 0, 2, 0, 1, 2, 1, 2, 2, 3, 1, 2, 1, 2, 1, 0, 2, 2, 3, 2, 1,\n",
       "       0, 5, 1, 2, 1, 0, 1, 2, 2, 3, 3, 1, 1, 1, 1, 1, 3, 2, 2, 0, 1, 2,\n",
       "       2, 2, 0, 2, 1, 1, 0, 2, 1, 0, 2, 2, 0, 2, 2, 2, 1, 3, 3, 2, 1, 1,\n",
       "       1, 4, 1, 2, 0, 1, 2, 0, 2, 1, 0, 2, 2, 1, 2, 2, 2, 3, 3, 0, 1, 2,\n",
       "       2, 2, 2, 0, 2, 3, 2, 1, 2, 1, 0, 2, 0, 1, 2, 1, 1, 0, 1, 1, 0, 2,\n",
       "       1, 2, 1, 2, 3, 2, 2, 0, 1, 1, 3, 1, 1, 2, 2, 2, 3, 2, 2, 1, 2, 3,\n",
       "       1, 3, 1, 2, 2, 0, 1, 2, 2, 2, 2, 2, 3, 2, 3, 1, 0, 2, 1, 1, 1, 1,\n",
       "       2, 3, 0, 2, 1, 2, 1, 1, 2, 0, 0, 2, 2, 2, 2, 3, 1, 2, 1, 2, 0, 2,\n",
       "       1, 0, 2, 0, 0, 1, 4, 2, 3, 2, 1, 1, 2, 1, 5, 1, 1, 2, 0, 1, 2, 3,\n",
       "       2, 1, 1, 2, 1, 5, 1, 2, 0, 1, 1, 2, 0, 1, 2, 3, 1, 0, 2, 1, 0, 0,\n",
       "       1, 0, 2, 0, 1, 2, 1, 1, 1, 2, 0, 0, 1, 1, 1, 1, 1, 0, 0, 3, 1, 1,\n",
       "       2, 0, 3, 2, 1, 2, 2, 1, 2, 1, 1, 1, 0, 1, 1, 2, 1, 0, 2, 2, 2, 1,\n",
       "       3, 2, 3, 1, 0, 2, 1, 2, 2, 2, 1, 0, 0, 2, 3, 0, 0, 1, 3, 3, 1, 2,\n",
       "       2, 2, 1, 3, 2, 1, 0, 1, 2, 2, 1, 2, 1, 2, 2, 2, 2, 1, 2, 1, 2, 0,\n",
       "       0, 2, 1, 3, 1, 3, 1, 1, 1, 2, 1, 3, 0, 3, 0, 1, 2, 2, 2, 0, 3, 1,\n",
       "       3, 1, 2, 1, 1, 1, 4, 1, 2, 0, 4, 3, 2, 0, 2, 3, 3, 2, 1, 0, 3, 1,\n",
       "       2, 0, 1, 1, 4, 3, 1, 1, 0, 2])"
      ]
     },
     "execution_count": 26,
     "metadata": {},
     "output_type": "execute_result"
    }
   ],
   "source": [
    "data"
   ]
  },
  {
   "cell_type": "code",
   "execution_count": 20,
   "metadata": {},
   "outputs": [
    {
     "name": "stdout",
     "output_type": "stream",
     "text": [
      "[ 2 11 24 28 21 10  3  1]\n"
     ]
    },
    {
     "data": {
      "image/png": "[encoded data removed]",
      "text/plain": [
       "<Figure size 1440x720 with 1 Axes>"
      ]
     },
     "metadata": {
      "needs_background": "light"
     },
     "output_type": "display_data"
    }
   ],
   "source": [
    "# nbi:hide_in\n",
    "# library\n",
    "import matplotlib.pyplot as plt\n",
    "import numpy as np\n",
    "from scipy.special import comb\n",
    "plt.rcParams[\"figure.figsize\"] = (20, 10)\n",
    "\n",
    "N = 100\n",
    "K = 30\n",
    "n = 10\n",
    "num_samples=30\n",
    "\n",
    "range_x = np.arange(max(0, n-(N-K)), min(n, K)+1, 1)\n",
    "def hyper_pmf(N,K,n,i):\n",
    "        pmf_val = comb(K, i, exact=True) * comb(N-K, n-i, exact=True) / comb(N, n, exact=True)\n",
    "        return pmf_val\n",
    "\n",
    "pmf_values = np.array([hyper_pmf(N,K,n,i) for i in range_x])\n",
    "\n",
    "# generate data\n",
    "data = np.array([4, 1, 4, 1, 2, 3, 4, 2, 2, 2, 4, 2, 5, 5, 3, 4, 6, 5, 2, 3, 1, 5,\n",
    "       3, 6, 2, 1, 3, 0, 2, 4, 2, 3, 5, 5, 3, 4, 4, 2, 3, 2, 3, 4, 1, 3,\n",
    "       3, 3, 4, 3, 2, 1, 4, 5, 2, 6, 5, 2, 1, 2, 4, 2, 3, 4, 3, 7, 1, 4,\n",
    "       4, 0, 3, 3, 4, 3, 3, 3, 3, 2, 3, 1, 2, 5, 4, 2, 2, 2, 3, 1, 2, 3,\n",
    "       2, 3, 5, 1, 4, 4, 4, 3, 3, 4, 3, 2])\n",
    "\n",
    "# compute empirical pmf\n",
    "def epmf(data):\n",
    "    erange_x, counts = np.unique(data, return_counts=True)\n",
    "    print(counts)\n",
    "    epmf_values = counts/data.size\n",
    "    return epmf_values, erange_x\n",
    "\n",
    "epmf_values, erange_x = epmf(data)\n",
    "\n",
    "# plot setup\n",
    "plt.axhline(y=0, color='k')\n",
    "#plt.xlim(-1,N)\n",
    "#plt.xticks(np.arange(0, N, 1))\n",
    "plt.xticks(range_x)\n",
    "\n",
    "plt.scatter(range_x,np.zeros(range_x.shape), color =\"red\", s=20)\n",
    "plt.bar(range_x, pmf_values, width=1, color=(1, 1, 1, 0), edgecolor='blue', linewidth=1, label=\"True histogran\")\n",
    "plt.bar(erange_x, epmf_values, width=0.9, color=(1, 1, 1, 0), edgecolor='green', linewidth=1,linestyle=\"--\", label=\"Relative frequency histogram\")\n",
    "plt.legend()\n",
    "plt.show();"
   ]
  },
  {
   "cell_type": "code",
   "execution_count": 55,
   "metadata": {},
   "outputs": [
    {
     "name": "stdout",
     "output_type": "stream",
     "text": [
      "[ 5 11  9  4  1]\n"
     ]
    },
    {
     "data": {
      "application/vnd.jupyter.widget-view+json": {
       "model_id": "bc663cdfd30d41f88d23869ccf72ca4c",
       "version_major": 2,
       "version_minor": 0
      },
      "text/plain": [
       "interactive(children=(IntSlider(value=100, description='N', step=10), IntSlider(value=30, description='K'), In…"
      ]
     },
     "metadata": {},
     "output_type": "display_data"
    }
   ],
   "source": [
    "# nbi:hide_in\n",
    "# library\n",
    "import matplotlib.pyplot as plt\n",
    "import numpy as np\n",
    "from scipy.special import comb\n",
    "from ipywidgets import interact\n",
    "\n",
    "plt.rcParams[\"figure.figsize\"] = (20, 10)\n",
    "\n",
    "N = 100\n",
    "K = 30\n",
    "n = 5\n",
    "num_samples=30\n",
    "\n",
    "range_x = np.arange(max(0, n-(N-K)), min(n, K)+1, 1)\n",
    "def hyper_pmf(N,K,n,i):\n",
    "        pmf_val = comb(K, i, exact=True) * comb(N-K, n-i, exact=True) / comb(N, n, exact=True)\n",
    "        return pmf_val\n",
    "\n",
    "pmf_values = np.array([hyper_pmf(N,K,n,i) for i in range_x])\n",
    "\n",
    "# generate data\n",
    "data = np.array([1, 2, 1, 1, 3, 0, 2, 2, 1, 1, 1, 1, 2, 0, 1, 0, 2, 4, 3, 2, 1, 1,\n",
    "       2, 3, 2, 3, 0, 0, 2, 1])\n",
    "\n",
    "# compute empirical pmf\n",
    "def epmf(data):\n",
    "    erange_x, counts = np.unique(data, return_counts=True)\n",
    "    print(counts)\n",
    "    epmf_values = counts/data.size\n",
    "    return epmf_values, erange_x\n",
    "\n",
    "epmf_values, erange_x = epmf(data)\n",
    "\n",
    "def hypergeometric_pmf(N=100,K=30,n=5):\n",
    "    range_x = np.arange(max(0, n-(N-K)), min(n, K)+1, 1)\n",
    "\n",
    "    def hyper_pmf(N,K,n,i):\n",
    "        pmf_val = comb(K, i, exact=True) * comb(N-K, n-i, exact=True) / comb(N, n, exact=True)\n",
    "        return pmf_val\n",
    "\n",
    "    pmf_values = np.array([hyper_pmf(N,K,n,i) for i in range_x])\n",
    "\n",
    "    # plot setup\n",
    "    plt.axhline(y=0, color='k')\n",
    "    plt.xlim(-2,50)\n",
    "    plt.xticks(np.arange(0, 50, 1))\n",
    "\n",
    "\n",
    "\n",
    "    # PLotting with plt.bar instead of plt.hist works better when f(x) are knowwn\n",
    "    plt.scatter(erange_x,np.zeros(erange_x.shape), color =\"red\", s=20)\n",
    "    plt.bar(erange_x, epmf_values, width=0.9, color=(1, 1, 1, 0), edgecolor='green', linewidth=1,linestyle=\"--\", label=\"Relative frequency histogram\")\n",
    "    plt.scatter(range_x,np.zeros(range_x.shape), color =\"red\", s=20)\n",
    "    plt.bar(range_x, pmf_values, width=1, color=(1, 1, 1, 0), edgecolor='blue', linewidth=1.3, label=\"Histogran\")\n",
    "    plt.title(\"N={}, K={}, n={}\".format(N,K,n))\n",
    "    plt.plot();\n",
    "\n",
    "interact(hypergeometric_pmf, N=(0,100,10), K=(0,100,1), n=(0,100,1));"
   ]
  },
  {
   "cell_type": "code",
   "execution_count": 38,
   "metadata": {},
   "outputs": [
    {
     "name": "stdout",
     "output_type": "stream",
     "text": [
      "[-5.  -1.   0.   2.   6.4]\n",
      "[0.33 0.02 0.35 0.2  0.1 ]\n"
     ]
    },
    {
     "data": {
      "image/png": "[encoded data removed]",
      "text/plain": [
       "<Figure size 864x360 with 1 Axes>"
      ]
     },
     "metadata": {
      "needs_background": "light"
     },
     "output_type": "display_data"
    }
   ],
   "source": [
    "# nbi:hide_in\n",
    "# library\n",
    "import matplotlib.pyplot as plt\n",
    "import numpy as np\n",
    "plt.rcParams[\"figure.figsize\"] = (12, 5)\n",
    "\n",
    "K=10\n",
    "range_x=np.array([2, -1, 0, -5, 6.4])\n",
    "pmf_values=np.array([0.2, 0.02, 0.35, 0.33, 0.1])\n",
    "\n",
    "# Sort x and y according to order in x\n",
    "sortargs = range_x.argsort()\n",
    "range_x = range_x[sortargs]\n",
    "print(range_x)\n",
    "pmf_values = pmf_values[sortargs]\n",
    "print(pmf_values)\n",
    "\n",
    "#cdf values using cumsum function with padding\n",
    "cdf_values = np.cumsum(pmf_values)\n",
    "\n",
    "def padding(cdf_values, range_x):\n",
    "    edge = (range_x[0]-2, range_x[-1]+2)\n",
    "    range_x_padded = np.pad(range_x, (1,1), 'constant', constant_values=edge)\n",
    "    cdf_values_padded = np.pad(cdf_values, (1,1), 'constant', constant_values=(0, 1))\n",
    "    return cdf_values_padded, range_x_padded, edge\n",
    "\n",
    "cdf_values_padded, range_x_padded, edge = padding(cdf_values, range_x)\n",
    "# setting up the figure\n",
    "\n",
    "plt.ylim(-0.07,1.1) \n",
    "plt.axhline(y=0, color='k')\n",
    "plt.xlim(edge)\n",
    "plt.xticks(range_x)\n",
    "plt.yticks(cdf_values_padded)\n",
    "\n",
    "# plot cdf using step function\n",
    "plt.scatter(range_x,np.zeros(range_x.shape), color =\"red\", s=20)\n",
    "plt.step(range_x_padded, cdf_values_padded, linewidth=2, where='post')\n",
    "plt.title(\"cdf\")\n",
    "plt.show();"
   ]
  },
  {
   "cell_type": "code",
   "execution_count": 56,
   "metadata": {},
   "outputs": [
    {
     "name": "stdout",
     "output_type": "stream",
     "text": [
      "[ 5 11  9  4  1]\n"
     ]
    },
    {
     "data": {
      "application/vnd.jupyter.widget-view+json": {
       "model_id": "e6f85dcea1d446af880e3df014499261",
       "version_major": 2,
       "version_minor": 0
      },
      "text/plain": [
       "interactive(children=(IntSlider(value=100, description='N', step=10), IntSlider(value=30, description='K'), In…"
      ]
     },
     "metadata": {},
     "output_type": "display_data"
    }
   ],
   "source": [
    "# nbi:hide_in\n",
    "# library\n",
    "import matplotlib.pyplot as plt\n",
    "import numpy as np\n",
    "from scipy.special import comb\n",
    "from ipywidgets import interact\n",
    "\n",
    "plt.rcParams[\"figure.figsize\"] = (20, 10)\n",
    "\n",
    "N = 100\n",
    "K = 30\n",
    "n = 5\n",
    "num_samples=30\n",
    "\n",
    "range_x = np.arange(max(0, n-(N-K)), min(n, K)+1, 1)\n",
    "def hyper_pmf(N,K,n,i):\n",
    "        pmf_val = comb(K, i, exact=True) * comb(N-K, n-i, exact=True) / comb(N, n, exact=True)\n",
    "        return pmf_val\n",
    "\n",
    "pmf_values = np.array([hyper_pmf(N,K,n,i) for i in range_x])\n",
    "\n",
    "# generate data\n",
    "data = np.array([1, 2, 1, 1, 3, 0, 2, 2, 1, 1, 1, 1, 2, 0, 1, 0, 2, 4, 3, 2, 1, 1,\n",
    "       2, 3, 2, 3, 0, 0, 2, 1])\n",
    "\n",
    "# compute empirical pmf\n",
    "def epmf(data):\n",
    "    erange_x, counts = np.unique(data, return_counts=True)\n",
    "    print(counts)\n",
    "    epmf_values = counts/data.size\n",
    "    return epmf_values, erange_x\n",
    "\n",
    "epmf_values, erange_x = epmf(data)\n",
    "\n",
    "def hypergeometric_pmf(N=100,K=30,n=5):\n",
    "    range_x = np.arange(max(0, n-(N-K)), min(n, K)+1, 1)\n",
    "\n",
    "    def hyper_pmf(N,K,n,i):\n",
    "        pmf_val = comb(K, i, exact=True) * comb(N-K, n-i, exact=True) / comb(N, n, exact=True)\n",
    "        return pmf_val\n",
    "\n",
    "    pmf_values = np.array([hyper_pmf(N,K,n,i) for i in range_x])\n",
    "\n",
    "    # plot setup\n",
    "    plt.axhline(y=0, color='k')\n",
    "    plt.xlim(-2,50)\n",
    "    plt.xticks(np.arange(0, 50, 1))\n",
    "\n",
    "\n",
    "\n",
    "    # PLotting with plt.bar instead of plt.hist works better when f(x) are knowwn\n",
    "    plt.scatter(erange_x,np.zeros(erange_x.shape), color =\"red\", s=20)\n",
    "    plt.bar(erange_x, epmf_values, width=0.9, color=(1, 1, 1, 0), edgecolor='green', linewidth=1,linestyle=\"--\", label=\"Relative frequency histogram\")\n",
    "    plt.scatter(range_x,np.zeros(range_x.shape), color =\"red\", s=20)\n",
    "    plt.bar(range_x, pmf_values, width=1, color=(1, 1, 1, 0), edgecolor='blue', linewidth=1.3, label=\"Histogran for K=30\")\n",
    "    plt.legend()\n",
    "    plt.plot();\n",
    "\n",
    "interact(hypergeometric_pmf, N=(0,100,10), K=(0,100,1), n=(0,100,1));"
   ]
  },
  {
   "cell_type": "code",
   "execution_count": 15,
   "metadata": {},
   "outputs": [
    {
     "name": "stdout",
     "output_type": "stream",
     "text": [
      "[ 5 11  9  4  1]\n",
      "1.5000000000000002 3.3000000000000003\n"
     ]
    },
    {
     "data": {
      "image/png": "[encoded data removed]",
      "text/plain": [
       "<Figure size 1440x720 with 1 Axes>"
      ]
     },
     "metadata": {
      "needs_background": "light"
     },
     "output_type": "display_data"
    }
   ],
   "source": []
  },
  {
   "cell_type": "code",
   "execution_count": null,
   "metadata": {},
   "outputs": [],
   "source": []
  }
 ],
 "metadata": {
  "kernelspec": {
   "display_name": "Python 3",
   "language": "python",
   "name": "python3"
  },
  "language_info": {
   "codemirror_mode": {
    "name": "ipython",
    "version": 3
   },
   "file_extension": ".py",
   "mimetype": "text/x-python",
   "name": "python",
   "nbconvert_exporter": "python",
   "pygments_lexer": "ipython3",
   "version": "3.7.7"
  }
 },
 "nbformat": 4,
 "nbformat_minor": 4
}
